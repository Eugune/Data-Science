{
 "cells": [
  {
   "cell_type": "markdown",
   "id": "0279cf30",
   "metadata": {},
   "source": [
    "### Creating a logistic regression to predict absenteeism"
   ]
  },
  {
   "cell_type": "markdown",
   "id": "558b3752",
   "metadata": {},
   "source": [
    "### Import the relevant libraryies"
   ]
  },
  {
   "cell_type": "code",
   "execution_count": 1,
   "id": "3ca3b0f4",
   "metadata": {},
   "outputs": [],
   "source": [
    "import numpy as np\n",
    "import pandas as pd\n",
    "import sklearn"
   ]
  },
  {
   "cell_type": "markdown",
   "id": "09e0b89c",
   "metadata": {},
   "source": [
    "### Load the data"
   ]
  },
  {
   "cell_type": "code",
   "execution_count": 2,
   "id": "9d495dd1",
   "metadata": {},
   "outputs": [],
   "source": [
    "data_preprocessed = pd.read_csv('df_preprocessed.csv')"
   ]
  },
  {
   "cell_type": "code",
   "execution_count": 3,
   "id": "030f737d",
   "metadata": {},
   "outputs": [
    {
     "data": {
      "text/html": [
       "<div>\n",
       "<style scoped>\n",
       "    .dataframe tbody tr th:only-of-type {\n",
       "        vertical-align: middle;\n",
       "    }\n",
       "\n",
       "    .dataframe tbody tr th {\n",
       "        vertical-align: top;\n",
       "    }\n",
       "\n",
       "    .dataframe thead th {\n",
       "        text-align: right;\n",
       "    }\n",
       "</style>\n",
       "<table border=\"1\" class=\"dataframe\">\n",
       "  <thead>\n",
       "    <tr style=\"text-align: right;\">\n",
       "      <th></th>\n",
       "      <th>Reason_1</th>\n",
       "      <th>Reason_2</th>\n",
       "      <th>Reason_3</th>\n",
       "      <th>Reason_4</th>\n",
       "      <th>Month Value</th>\n",
       "      <th>Day of the Week</th>\n",
       "      <th>Transportation Expense</th>\n",
       "      <th>Distance to Work</th>\n",
       "      <th>Age</th>\n",
       "      <th>Daily Work Load Average</th>\n",
       "      <th>Body Mass Index</th>\n",
       "      <th>Education</th>\n",
       "      <th>Children</th>\n",
       "      <th>Pets</th>\n",
       "      <th>Absenteeism Time in Hours</th>\n",
       "    </tr>\n",
       "  </thead>\n",
       "  <tbody>\n",
       "    <tr>\n",
       "      <th>0</th>\n",
       "      <td>0</td>\n",
       "      <td>0</td>\n",
       "      <td>0</td>\n",
       "      <td>1</td>\n",
       "      <td>7</td>\n",
       "      <td>1</td>\n",
       "      <td>289</td>\n",
       "      <td>36</td>\n",
       "      <td>33</td>\n",
       "      <td>239.554</td>\n",
       "      <td>30</td>\n",
       "      <td>0</td>\n",
       "      <td>2</td>\n",
       "      <td>1</td>\n",
       "      <td>4</td>\n",
       "    </tr>\n",
       "    <tr>\n",
       "      <th>1</th>\n",
       "      <td>0</td>\n",
       "      <td>0</td>\n",
       "      <td>0</td>\n",
       "      <td>0</td>\n",
       "      <td>7</td>\n",
       "      <td>1</td>\n",
       "      <td>118</td>\n",
       "      <td>13</td>\n",
       "      <td>50</td>\n",
       "      <td>239.554</td>\n",
       "      <td>31</td>\n",
       "      <td>0</td>\n",
       "      <td>1</td>\n",
       "      <td>0</td>\n",
       "      <td>0</td>\n",
       "    </tr>\n",
       "    <tr>\n",
       "      <th>2</th>\n",
       "      <td>0</td>\n",
       "      <td>0</td>\n",
       "      <td>0</td>\n",
       "      <td>1</td>\n",
       "      <td>7</td>\n",
       "      <td>2</td>\n",
       "      <td>179</td>\n",
       "      <td>51</td>\n",
       "      <td>38</td>\n",
       "      <td>239.554</td>\n",
       "      <td>31</td>\n",
       "      <td>0</td>\n",
       "      <td>0</td>\n",
       "      <td>0</td>\n",
       "      <td>2</td>\n",
       "    </tr>\n",
       "    <tr>\n",
       "      <th>3</th>\n",
       "      <td>1</td>\n",
       "      <td>0</td>\n",
       "      <td>0</td>\n",
       "      <td>0</td>\n",
       "      <td>7</td>\n",
       "      <td>3</td>\n",
       "      <td>279</td>\n",
       "      <td>5</td>\n",
       "      <td>39</td>\n",
       "      <td>239.554</td>\n",
       "      <td>24</td>\n",
       "      <td>0</td>\n",
       "      <td>2</td>\n",
       "      <td>0</td>\n",
       "      <td>4</td>\n",
       "    </tr>\n",
       "    <tr>\n",
       "      <th>4</th>\n",
       "      <td>0</td>\n",
       "      <td>0</td>\n",
       "      <td>0</td>\n",
       "      <td>1</td>\n",
       "      <td>7</td>\n",
       "      <td>3</td>\n",
       "      <td>289</td>\n",
       "      <td>36</td>\n",
       "      <td>33</td>\n",
       "      <td>239.554</td>\n",
       "      <td>30</td>\n",
       "      <td>0</td>\n",
       "      <td>2</td>\n",
       "      <td>1</td>\n",
       "      <td>2</td>\n",
       "    </tr>\n",
       "  </tbody>\n",
       "</table>\n",
       "</div>"
      ],
      "text/plain": [
       "   Reason_1  Reason_2  Reason_3  Reason_4  Month Value  Day of the Week  \\\n",
       "0         0         0         0         1            7                1   \n",
       "1         0         0         0         0            7                1   \n",
       "2         0         0         0         1            7                2   \n",
       "3         1         0         0         0            7                3   \n",
       "4         0         0         0         1            7                3   \n",
       "\n",
       "   Transportation Expense  Distance to Work  Age  Daily Work Load Average  \\\n",
       "0                     289                36   33                  239.554   \n",
       "1                     118                13   50                  239.554   \n",
       "2                     179                51   38                  239.554   \n",
       "3                     279                 5   39                  239.554   \n",
       "4                     289                36   33                  239.554   \n",
       "\n",
       "   Body Mass Index  Education  Children  Pets  Absenteeism Time in Hours  \n",
       "0               30          0         2     1                          4  \n",
       "1               31          0         1     0                          0  \n",
       "2               31          0         0     0                          2  \n",
       "3               24          0         2     0                          4  \n",
       "4               30          0         2     1                          2  "
      ]
     },
     "execution_count": 3,
     "metadata": {},
     "output_type": "execute_result"
    }
   ],
   "source": [
    "data_preprocessed.head()"
   ]
  },
  {
   "cell_type": "markdown",
   "id": "22b73b3b",
   "metadata": {},
   "source": [
    "### Create the targets"
   ]
  },
  {
   "cell_type": "code",
   "execution_count": 4,
   "id": "77d7e0e0",
   "metadata": {},
   "outputs": [],
   "source": [
    "meidan = data_preprocessed['Absenteeism Time in Hours'].median()"
   ]
  },
  {
   "cell_type": "code",
   "execution_count": 5,
   "id": "a268c330",
   "metadata": {},
   "outputs": [],
   "source": [
    "targets = np.where(data_preprocessed['Absenteeism Time in Hours']>meidan, 1, 0)"
   ]
  },
  {
   "cell_type": "code",
   "execution_count": 6,
   "id": "fcba4641",
   "metadata": {},
   "outputs": [
    {
     "data": {
      "text/plain": [
       "array([0, 1])"
      ]
     },
     "execution_count": 6,
     "metadata": {},
     "output_type": "execute_result"
    }
   ],
   "source": [
    "np.unique(targets)"
   ]
  },
  {
   "cell_type": "code",
   "execution_count": 7,
   "id": "963d15de",
   "metadata": {},
   "outputs": [],
   "source": [
    "data_preprocessed['Excessive_Absenteeism'] = targets"
   ]
  },
  {
   "cell_type": "code",
   "execution_count": 8,
   "id": "da2bc7fa",
   "metadata": {},
   "outputs": [
    {
     "data": {
      "text/html": [
       "<div>\n",
       "<style scoped>\n",
       "    .dataframe tbody tr th:only-of-type {\n",
       "        vertical-align: middle;\n",
       "    }\n",
       "\n",
       "    .dataframe tbody tr th {\n",
       "        vertical-align: top;\n",
       "    }\n",
       "\n",
       "    .dataframe thead th {\n",
       "        text-align: right;\n",
       "    }\n",
       "</style>\n",
       "<table border=\"1\" class=\"dataframe\">\n",
       "  <thead>\n",
       "    <tr style=\"text-align: right;\">\n",
       "      <th></th>\n",
       "      <th>Reason_1</th>\n",
       "      <th>Reason_2</th>\n",
       "      <th>Reason_3</th>\n",
       "      <th>Reason_4</th>\n",
       "      <th>Month Value</th>\n",
       "      <th>Day of the Week</th>\n",
       "      <th>Transportation Expense</th>\n",
       "      <th>Distance to Work</th>\n",
       "      <th>Age</th>\n",
       "      <th>Daily Work Load Average</th>\n",
       "      <th>Body Mass Index</th>\n",
       "      <th>Education</th>\n",
       "      <th>Children</th>\n",
       "      <th>Pets</th>\n",
       "      <th>Absenteeism Time in Hours</th>\n",
       "      <th>Excessive_Absenteeism</th>\n",
       "    </tr>\n",
       "  </thead>\n",
       "  <tbody>\n",
       "    <tr>\n",
       "      <th>0</th>\n",
       "      <td>0</td>\n",
       "      <td>0</td>\n",
       "      <td>0</td>\n",
       "      <td>1</td>\n",
       "      <td>7</td>\n",
       "      <td>1</td>\n",
       "      <td>289</td>\n",
       "      <td>36</td>\n",
       "      <td>33</td>\n",
       "      <td>239.554</td>\n",
       "      <td>30</td>\n",
       "      <td>0</td>\n",
       "      <td>2</td>\n",
       "      <td>1</td>\n",
       "      <td>4</td>\n",
       "      <td>1</td>\n",
       "    </tr>\n",
       "    <tr>\n",
       "      <th>1</th>\n",
       "      <td>0</td>\n",
       "      <td>0</td>\n",
       "      <td>0</td>\n",
       "      <td>0</td>\n",
       "      <td>7</td>\n",
       "      <td>1</td>\n",
       "      <td>118</td>\n",
       "      <td>13</td>\n",
       "      <td>50</td>\n",
       "      <td>239.554</td>\n",
       "      <td>31</td>\n",
       "      <td>0</td>\n",
       "      <td>1</td>\n",
       "      <td>0</td>\n",
       "      <td>0</td>\n",
       "      <td>0</td>\n",
       "    </tr>\n",
       "    <tr>\n",
       "      <th>2</th>\n",
       "      <td>0</td>\n",
       "      <td>0</td>\n",
       "      <td>0</td>\n",
       "      <td>1</td>\n",
       "      <td>7</td>\n",
       "      <td>2</td>\n",
       "      <td>179</td>\n",
       "      <td>51</td>\n",
       "      <td>38</td>\n",
       "      <td>239.554</td>\n",
       "      <td>31</td>\n",
       "      <td>0</td>\n",
       "      <td>0</td>\n",
       "      <td>0</td>\n",
       "      <td>2</td>\n",
       "      <td>0</td>\n",
       "    </tr>\n",
       "    <tr>\n",
       "      <th>3</th>\n",
       "      <td>1</td>\n",
       "      <td>0</td>\n",
       "      <td>0</td>\n",
       "      <td>0</td>\n",
       "      <td>7</td>\n",
       "      <td>3</td>\n",
       "      <td>279</td>\n",
       "      <td>5</td>\n",
       "      <td>39</td>\n",
       "      <td>239.554</td>\n",
       "      <td>24</td>\n",
       "      <td>0</td>\n",
       "      <td>2</td>\n",
       "      <td>0</td>\n",
       "      <td>4</td>\n",
       "      <td>1</td>\n",
       "    </tr>\n",
       "    <tr>\n",
       "      <th>4</th>\n",
       "      <td>0</td>\n",
       "      <td>0</td>\n",
       "      <td>0</td>\n",
       "      <td>1</td>\n",
       "      <td>7</td>\n",
       "      <td>3</td>\n",
       "      <td>289</td>\n",
       "      <td>36</td>\n",
       "      <td>33</td>\n",
       "      <td>239.554</td>\n",
       "      <td>30</td>\n",
       "      <td>0</td>\n",
       "      <td>2</td>\n",
       "      <td>1</td>\n",
       "      <td>2</td>\n",
       "      <td>0</td>\n",
       "    </tr>\n",
       "  </tbody>\n",
       "</table>\n",
       "</div>"
      ],
      "text/plain": [
       "   Reason_1  Reason_2  Reason_3  Reason_4  Month Value  Day of the Week  \\\n",
       "0         0         0         0         1            7                1   \n",
       "1         0         0         0         0            7                1   \n",
       "2         0         0         0         1            7                2   \n",
       "3         1         0         0         0            7                3   \n",
       "4         0         0         0         1            7                3   \n",
       "\n",
       "   Transportation Expense  Distance to Work  Age  Daily Work Load Average  \\\n",
       "0                     289                36   33                  239.554   \n",
       "1                     118                13   50                  239.554   \n",
       "2                     179                51   38                  239.554   \n",
       "3                     279                 5   39                  239.554   \n",
       "4                     289                36   33                  239.554   \n",
       "\n",
       "   Body Mass Index  Education  Children  Pets  Absenteeism Time in Hours  \\\n",
       "0               30          0         2     1                          4   \n",
       "1               31          0         1     0                          0   \n",
       "2               31          0         0     0                          2   \n",
       "3               24          0         2     0                          4   \n",
       "4               30          0         2     1                          2   \n",
       "\n",
       "   Excessive_Absenteeism  \n",
       "0                      1  \n",
       "1                      0  \n",
       "2                      0  \n",
       "3                      1  \n",
       "4                      0  "
      ]
     },
     "execution_count": 8,
     "metadata": {},
     "output_type": "execute_result"
    }
   ],
   "source": [
    "data_preprocessed.head()"
   ]
  },
  {
   "cell_type": "markdown",
   "id": "07999200",
   "metadata": {},
   "source": [
    "### A comment on the targets"
   ]
  },
  {
   "cell_type": "code",
   "execution_count": 9,
   "id": "82504eb5",
   "metadata": {},
   "outputs": [
    {
     "data": {
      "text/plain": [
       "0.45571428571428574"
      ]
     },
     "execution_count": 9,
     "metadata": {},
     "output_type": "execute_result"
    }
   ],
   "source": [
    "targets.sum() / targets.shape[0]"
   ]
  },
  {
   "cell_type": "code",
   "execution_count": 10,
   "id": "c5f2e169",
   "metadata": {},
   "outputs": [],
   "source": [
    "# backward eilimination\n",
    "# come back to here to drop off the columns 'Daily Work Load Average','Day of the Week', 'Distance to Work'.\n",
    "# rerun the notebook"
   ]
  },
  {
   "cell_type": "code",
   "execution_count": 11,
   "id": "bd7db280",
   "metadata": {},
   "outputs": [],
   "source": [
    "data_with_targets = data_preprocessed.drop(['Absenteeism Time in Hours','Daily Work Load Average',\n",
    "                                            'Day of the Week', 'Distance to Work'], axis=1)"
   ]
  },
  {
   "cell_type": "code",
   "execution_count": 12,
   "id": "9954e62f",
   "metadata": {},
   "outputs": [
    {
     "data": {
      "text/plain": [
       "False"
      ]
     },
     "execution_count": 12,
     "metadata": {},
     "output_type": "execute_result"
    }
   ],
   "source": [
    "data_with_targets is data_preprocessed"
   ]
  },
  {
   "cell_type": "code",
   "execution_count": 13,
   "id": "9dec2ac1",
   "metadata": {},
   "outputs": [
    {
     "data": {
      "text/html": [
       "<div>\n",
       "<style scoped>\n",
       "    .dataframe tbody tr th:only-of-type {\n",
       "        vertical-align: middle;\n",
       "    }\n",
       "\n",
       "    .dataframe tbody tr th {\n",
       "        vertical-align: top;\n",
       "    }\n",
       "\n",
       "    .dataframe thead th {\n",
       "        text-align: right;\n",
       "    }\n",
       "</style>\n",
       "<table border=\"1\" class=\"dataframe\">\n",
       "  <thead>\n",
       "    <tr style=\"text-align: right;\">\n",
       "      <th></th>\n",
       "      <th>Reason_1</th>\n",
       "      <th>Reason_2</th>\n",
       "      <th>Reason_3</th>\n",
       "      <th>Reason_4</th>\n",
       "      <th>Month Value</th>\n",
       "      <th>Transportation Expense</th>\n",
       "      <th>Age</th>\n",
       "      <th>Body Mass Index</th>\n",
       "      <th>Education</th>\n",
       "      <th>Children</th>\n",
       "      <th>Pets</th>\n",
       "      <th>Excessive_Absenteeism</th>\n",
       "    </tr>\n",
       "  </thead>\n",
       "  <tbody>\n",
       "    <tr>\n",
       "      <th>0</th>\n",
       "      <td>0</td>\n",
       "      <td>0</td>\n",
       "      <td>0</td>\n",
       "      <td>1</td>\n",
       "      <td>7</td>\n",
       "      <td>289</td>\n",
       "      <td>33</td>\n",
       "      <td>30</td>\n",
       "      <td>0</td>\n",
       "      <td>2</td>\n",
       "      <td>1</td>\n",
       "      <td>1</td>\n",
       "    </tr>\n",
       "    <tr>\n",
       "      <th>1</th>\n",
       "      <td>0</td>\n",
       "      <td>0</td>\n",
       "      <td>0</td>\n",
       "      <td>0</td>\n",
       "      <td>7</td>\n",
       "      <td>118</td>\n",
       "      <td>50</td>\n",
       "      <td>31</td>\n",
       "      <td>0</td>\n",
       "      <td>1</td>\n",
       "      <td>0</td>\n",
       "      <td>0</td>\n",
       "    </tr>\n",
       "    <tr>\n",
       "      <th>2</th>\n",
       "      <td>0</td>\n",
       "      <td>0</td>\n",
       "      <td>0</td>\n",
       "      <td>1</td>\n",
       "      <td>7</td>\n",
       "      <td>179</td>\n",
       "      <td>38</td>\n",
       "      <td>31</td>\n",
       "      <td>0</td>\n",
       "      <td>0</td>\n",
       "      <td>0</td>\n",
       "      <td>0</td>\n",
       "    </tr>\n",
       "    <tr>\n",
       "      <th>3</th>\n",
       "      <td>1</td>\n",
       "      <td>0</td>\n",
       "      <td>0</td>\n",
       "      <td>0</td>\n",
       "      <td>7</td>\n",
       "      <td>279</td>\n",
       "      <td>39</td>\n",
       "      <td>24</td>\n",
       "      <td>0</td>\n",
       "      <td>2</td>\n",
       "      <td>0</td>\n",
       "      <td>1</td>\n",
       "    </tr>\n",
       "    <tr>\n",
       "      <th>4</th>\n",
       "      <td>0</td>\n",
       "      <td>0</td>\n",
       "      <td>0</td>\n",
       "      <td>1</td>\n",
       "      <td>7</td>\n",
       "      <td>289</td>\n",
       "      <td>33</td>\n",
       "      <td>30</td>\n",
       "      <td>0</td>\n",
       "      <td>2</td>\n",
       "      <td>1</td>\n",
       "      <td>0</td>\n",
       "    </tr>\n",
       "  </tbody>\n",
       "</table>\n",
       "</div>"
      ],
      "text/plain": [
       "   Reason_1  Reason_2  Reason_3  Reason_4  Month Value  \\\n",
       "0         0         0         0         1            7   \n",
       "1         0         0         0         0            7   \n",
       "2         0         0         0         1            7   \n",
       "3         1         0         0         0            7   \n",
       "4         0         0         0         1            7   \n",
       "\n",
       "   Transportation Expense  Age  Body Mass Index  Education  Children  Pets  \\\n",
       "0                     289   33               30          0         2     1   \n",
       "1                     118   50               31          0         1     0   \n",
       "2                     179   38               31          0         0     0   \n",
       "3                     279   39               24          0         2     0   \n",
       "4                     289   33               30          0         2     1   \n",
       "\n",
       "   Excessive_Absenteeism  \n",
       "0                      1  \n",
       "1                      0  \n",
       "2                      0  \n",
       "3                      1  \n",
       "4                      0  "
      ]
     },
     "execution_count": 13,
     "metadata": {},
     "output_type": "execute_result"
    }
   ],
   "source": [
    "data_with_targets.head()"
   ]
  },
  {
   "cell_type": "markdown",
   "id": "f25fe571",
   "metadata": {},
   "source": [
    "### Select the inputs for the regression"
   ]
  },
  {
   "cell_type": "code",
   "execution_count": 14,
   "id": "cee13bf1",
   "metadata": {},
   "outputs": [
    {
     "data": {
      "text/plain": [
       "(700, 12)"
      ]
     },
     "execution_count": 14,
     "metadata": {},
     "output_type": "execute_result"
    }
   ],
   "source": [
    "data_with_targets.shape"
   ]
  },
  {
   "cell_type": "code",
   "execution_count": 15,
   "id": "5bc4d19d",
   "metadata": {},
   "outputs": [
    {
     "data": {
      "text/html": [
       "<div>\n",
       "<style scoped>\n",
       "    .dataframe tbody tr th:only-of-type {\n",
       "        vertical-align: middle;\n",
       "    }\n",
       "\n",
       "    .dataframe tbody tr th {\n",
       "        vertical-align: top;\n",
       "    }\n",
       "\n",
       "    .dataframe thead th {\n",
       "        text-align: right;\n",
       "    }\n",
       "</style>\n",
       "<table border=\"1\" class=\"dataframe\">\n",
       "  <thead>\n",
       "    <tr style=\"text-align: right;\">\n",
       "      <th></th>\n",
       "      <th>Reason_1</th>\n",
       "      <th>Reason_2</th>\n",
       "      <th>Reason_3</th>\n",
       "      <th>Reason_4</th>\n",
       "      <th>Month Value</th>\n",
       "      <th>Transportation Expense</th>\n",
       "      <th>Age</th>\n",
       "      <th>Body Mass Index</th>\n",
       "      <th>Education</th>\n",
       "      <th>Children</th>\n",
       "      <th>Pets</th>\n",
       "    </tr>\n",
       "  </thead>\n",
       "  <tbody>\n",
       "    <tr>\n",
       "      <th>0</th>\n",
       "      <td>0</td>\n",
       "      <td>0</td>\n",
       "      <td>0</td>\n",
       "      <td>1</td>\n",
       "      <td>7</td>\n",
       "      <td>289</td>\n",
       "      <td>33</td>\n",
       "      <td>30</td>\n",
       "      <td>0</td>\n",
       "      <td>2</td>\n",
       "      <td>1</td>\n",
       "    </tr>\n",
       "    <tr>\n",
       "      <th>1</th>\n",
       "      <td>0</td>\n",
       "      <td>0</td>\n",
       "      <td>0</td>\n",
       "      <td>0</td>\n",
       "      <td>7</td>\n",
       "      <td>118</td>\n",
       "      <td>50</td>\n",
       "      <td>31</td>\n",
       "      <td>0</td>\n",
       "      <td>1</td>\n",
       "      <td>0</td>\n",
       "    </tr>\n",
       "    <tr>\n",
       "      <th>2</th>\n",
       "      <td>0</td>\n",
       "      <td>0</td>\n",
       "      <td>0</td>\n",
       "      <td>1</td>\n",
       "      <td>7</td>\n",
       "      <td>179</td>\n",
       "      <td>38</td>\n",
       "      <td>31</td>\n",
       "      <td>0</td>\n",
       "      <td>0</td>\n",
       "      <td>0</td>\n",
       "    </tr>\n",
       "    <tr>\n",
       "      <th>3</th>\n",
       "      <td>1</td>\n",
       "      <td>0</td>\n",
       "      <td>0</td>\n",
       "      <td>0</td>\n",
       "      <td>7</td>\n",
       "      <td>279</td>\n",
       "      <td>39</td>\n",
       "      <td>24</td>\n",
       "      <td>0</td>\n",
       "      <td>2</td>\n",
       "      <td>0</td>\n",
       "    </tr>\n",
       "    <tr>\n",
       "      <th>4</th>\n",
       "      <td>0</td>\n",
       "      <td>0</td>\n",
       "      <td>0</td>\n",
       "      <td>1</td>\n",
       "      <td>7</td>\n",
       "      <td>289</td>\n",
       "      <td>33</td>\n",
       "      <td>30</td>\n",
       "      <td>0</td>\n",
       "      <td>2</td>\n",
       "      <td>1</td>\n",
       "    </tr>\n",
       "    <tr>\n",
       "      <th>...</th>\n",
       "      <td>...</td>\n",
       "      <td>...</td>\n",
       "      <td>...</td>\n",
       "      <td>...</td>\n",
       "      <td>...</td>\n",
       "      <td>...</td>\n",
       "      <td>...</td>\n",
       "      <td>...</td>\n",
       "      <td>...</td>\n",
       "      <td>...</td>\n",
       "      <td>...</td>\n",
       "    </tr>\n",
       "    <tr>\n",
       "      <th>695</th>\n",
       "      <td>1</td>\n",
       "      <td>0</td>\n",
       "      <td>0</td>\n",
       "      <td>0</td>\n",
       "      <td>5</td>\n",
       "      <td>179</td>\n",
       "      <td>40</td>\n",
       "      <td>22</td>\n",
       "      <td>1</td>\n",
       "      <td>2</td>\n",
       "      <td>0</td>\n",
       "    </tr>\n",
       "    <tr>\n",
       "      <th>696</th>\n",
       "      <td>1</td>\n",
       "      <td>0</td>\n",
       "      <td>0</td>\n",
       "      <td>0</td>\n",
       "      <td>5</td>\n",
       "      <td>225</td>\n",
       "      <td>28</td>\n",
       "      <td>24</td>\n",
       "      <td>0</td>\n",
       "      <td>1</td>\n",
       "      <td>2</td>\n",
       "    </tr>\n",
       "    <tr>\n",
       "      <th>697</th>\n",
       "      <td>1</td>\n",
       "      <td>0</td>\n",
       "      <td>0</td>\n",
       "      <td>0</td>\n",
       "      <td>5</td>\n",
       "      <td>330</td>\n",
       "      <td>28</td>\n",
       "      <td>25</td>\n",
       "      <td>1</td>\n",
       "      <td>0</td>\n",
       "      <td>0</td>\n",
       "    </tr>\n",
       "    <tr>\n",
       "      <th>698</th>\n",
       "      <td>0</td>\n",
       "      <td>0</td>\n",
       "      <td>0</td>\n",
       "      <td>1</td>\n",
       "      <td>5</td>\n",
       "      <td>235</td>\n",
       "      <td>32</td>\n",
       "      <td>25</td>\n",
       "      <td>1</td>\n",
       "      <td>0</td>\n",
       "      <td>0</td>\n",
       "    </tr>\n",
       "    <tr>\n",
       "      <th>699</th>\n",
       "      <td>0</td>\n",
       "      <td>0</td>\n",
       "      <td>0</td>\n",
       "      <td>1</td>\n",
       "      <td>5</td>\n",
       "      <td>291</td>\n",
       "      <td>40</td>\n",
       "      <td>25</td>\n",
       "      <td>0</td>\n",
       "      <td>1</td>\n",
       "      <td>1</td>\n",
       "    </tr>\n",
       "  </tbody>\n",
       "</table>\n",
       "<p>700 rows × 11 columns</p>\n",
       "</div>"
      ],
      "text/plain": [
       "     Reason_1  Reason_2  Reason_3  Reason_4  Month Value  \\\n",
       "0           0         0         0         1            7   \n",
       "1           0         0         0         0            7   \n",
       "2           0         0         0         1            7   \n",
       "3           1         0         0         0            7   \n",
       "4           0         0         0         1            7   \n",
       "..        ...       ...       ...       ...          ...   \n",
       "695         1         0         0         0            5   \n",
       "696         1         0         0         0            5   \n",
       "697         1         0         0         0            5   \n",
       "698         0         0         0         1            5   \n",
       "699         0         0         0         1            5   \n",
       "\n",
       "     Transportation Expense  Age  Body Mass Index  Education  Children  Pets  \n",
       "0                       289   33               30          0         2     1  \n",
       "1                       118   50               31          0         1     0  \n",
       "2                       179   38               31          0         0     0  \n",
       "3                       279   39               24          0         2     0  \n",
       "4                       289   33               30          0         2     1  \n",
       "..                      ...  ...              ...        ...       ...   ...  \n",
       "695                     179   40               22          1         2     0  \n",
       "696                     225   28               24          0         1     2  \n",
       "697                     330   28               25          1         0     0  \n",
       "698                     235   32               25          1         0     0  \n",
       "699                     291   40               25          0         1     1  \n",
       "\n",
       "[700 rows x 11 columns]"
      ]
     },
     "execution_count": 15,
     "metadata": {},
     "output_type": "execute_result"
    }
   ],
   "source": [
    "data_with_targets.iloc[:,:-1]"
   ]
  },
  {
   "cell_type": "code",
   "execution_count": 16,
   "id": "452031b8",
   "metadata": {},
   "outputs": [],
   "source": [
    "unscaled_inputs = data_with_targets.iloc[:,:-1]"
   ]
  },
  {
   "cell_type": "markdown",
   "id": "3f90abad",
   "metadata": {},
   "source": [
    "### Standardize the data"
   ]
  },
  {
   "cell_type": "code",
   "execution_count": 17,
   "id": "c2f7893b",
   "metadata": {},
   "outputs": [],
   "source": [
    "from sklearn.preprocessing import StandardScaler"
   ]
  },
  {
   "cell_type": "code",
   "execution_count": 18,
   "id": "06569162",
   "metadata": {},
   "outputs": [],
   "source": [
    "# The datndard scaler will scale the dummies variables, \n",
    "#     which will make the dummies variables uninterpretiable in the model.\n",
    "\n",
    "# absenteeism_scaler = StandardScaler()  # obtian the mean and std"
   ]
  },
  {
   "cell_type": "markdown",
   "id": "32d5ae41",
   "metadata": {},
   "source": [
    "#### custome scaler"
   ]
  },
  {
   "cell_type": "code",
   "execution_count": 19,
   "id": "6e65d90d",
   "metadata": {},
   "outputs": [],
   "source": [
    "from sklearn.base import BaseEstimator, TransformerMixin\n",
    "from sklearn.preprocessing import StandardScaler\n",
    "\n",
    "class CustomScaler(BaseEstimator,TransformerMixin): \n",
    "    \n",
    "    # init or what information we need to declare a CustomScaler object\n",
    "    # and what is calculated/declared as we do\n",
    "    def __init__(self,columns):  \n",
    "        \n",
    "#     def __init__(self,columns,copy=True,with_mean=True,with_std=True):\n",
    "#         self.scaler = StandardScaler(copy,with_mean,with_std)\n",
    "\n",
    "\n",
    "        # scaler is nothing but a Standard Scaler object\n",
    "        self.scaler = StandardScaler()\n",
    "        # with some columns 'twist'\n",
    "        self.columns = columns\n",
    "        self.mean_ = None\n",
    "        self.var_ = None\n",
    "        \n",
    "    \n",
    "    # the fit method, which, again based on StandardScale\n",
    "    \n",
    "    def fit(self, X, y=None):\n",
    "        self.scaler.fit(X[self.columns], y)\n",
    "        self.mean_ = np.mean(X[self.columns])\n",
    "        self.var_ = np.var(X[self.columns])\n",
    "        return self\n",
    "    \n",
    "    # the transform method which does the actual scaling\n",
    "\n",
    "    def transform(self, X, y=None, copy=None):\n",
    "        \n",
    "        # record the initial order of the columns\n",
    "        init_col_order = X.columns\n",
    "        \n",
    "        # scale all features that you chose when creating the instance of the class\n",
    "        X_scaled = pd.DataFrame(self.scaler.transform(X[self.columns]), columns=self.columns)\n",
    "        \n",
    "        # declare a variable containing all information that was not scaled\n",
    "        X_not_scaled = X.loc[:,~X.columns.isin(self.columns)]\n",
    "        \n",
    "        # return a data frame which contains all scaled features and all 'not scaled' features\n",
    "        # use the original order (that you recorded in the beginning)\n",
    "        return pd.concat([X_not_scaled, X_scaled], axis=1)[init_col_order]"
   ]
  },
  {
   "cell_type": "code",
   "execution_count": 20,
   "id": "fce1a9ab",
   "metadata": {},
   "outputs": [],
   "source": [
    "# select columns that we don't want to scale\n",
    "columns_to_omit = ['Reason_1', 'Reason_2', 'Reason_3', 'Reason_4','Education']\n",
    "\n",
    "columns_to_scale = [x for x in unscaled_inputs.columns.values if x not in columns_to_omit]"
   ]
  },
  {
   "cell_type": "code",
   "execution_count": 21,
   "id": "e295c997",
   "metadata": {},
   "outputs": [],
   "source": [
    "absenteeism_scaler = CustomScaler(columns_to_scale)"
   ]
  },
  {
   "cell_type": "code",
   "execution_count": 22,
   "id": "e43c503c",
   "metadata": {},
   "outputs": [
    {
     "name": "stderr",
     "output_type": "stream",
     "text": [
      "D:\\anaconda3\\lib\\site-packages\\numpy\\core\\fromnumeric.py:3438: FutureWarning: In a future version, DataFrame.mean(axis=None) will return a scalar mean over the entire DataFrame. To retain the old behavior, use 'frame.mean(axis=0)' or just 'frame.mean()'\n",
      "  return mean(axis=axis, dtype=dtype, out=out, **kwargs)\n"
     ]
    },
    {
     "data": {
      "text/plain": [
       "CustomScaler(columns=['Month Value', 'Transportation Expense', 'Age',\n",
       "                      'Body Mass Index', 'Children', 'Pets'])"
      ]
     },
     "execution_count": 22,
     "metadata": {},
     "output_type": "execute_result"
    }
   ],
   "source": [
    "absenteeism_scaler.fit(unscaled_inputs)"
   ]
  },
  {
   "cell_type": "code",
   "execution_count": 23,
   "id": "fb36e183",
   "metadata": {},
   "outputs": [],
   "source": [
    "scaled_inputs = absenteeism_scaler.transform(unscaled_inputs)"
   ]
  },
  {
   "cell_type": "code",
   "execution_count": 24,
   "id": "35a25bd8",
   "metadata": {},
   "outputs": [
    {
     "data": {
      "text/html": [
       "<div>\n",
       "<style scoped>\n",
       "    .dataframe tbody tr th:only-of-type {\n",
       "        vertical-align: middle;\n",
       "    }\n",
       "\n",
       "    .dataframe tbody tr th {\n",
       "        vertical-align: top;\n",
       "    }\n",
       "\n",
       "    .dataframe thead th {\n",
       "        text-align: right;\n",
       "    }\n",
       "</style>\n",
       "<table border=\"1\" class=\"dataframe\">\n",
       "  <thead>\n",
       "    <tr style=\"text-align: right;\">\n",
       "      <th></th>\n",
       "      <th>Reason_1</th>\n",
       "      <th>Reason_2</th>\n",
       "      <th>Reason_3</th>\n",
       "      <th>Reason_4</th>\n",
       "      <th>Month Value</th>\n",
       "      <th>Transportation Expense</th>\n",
       "      <th>Age</th>\n",
       "      <th>Body Mass Index</th>\n",
       "      <th>Education</th>\n",
       "      <th>Children</th>\n",
       "      <th>Pets</th>\n",
       "    </tr>\n",
       "  </thead>\n",
       "  <tbody>\n",
       "    <tr>\n",
       "      <th>0</th>\n",
       "      <td>0</td>\n",
       "      <td>0</td>\n",
       "      <td>0</td>\n",
       "      <td>1</td>\n",
       "      <td>0.182726</td>\n",
       "      <td>1.005844</td>\n",
       "      <td>-0.536062</td>\n",
       "      <td>0.767431</td>\n",
       "      <td>0</td>\n",
       "      <td>0.880469</td>\n",
       "      <td>0.268487</td>\n",
       "    </tr>\n",
       "    <tr>\n",
       "      <th>1</th>\n",
       "      <td>0</td>\n",
       "      <td>0</td>\n",
       "      <td>0</td>\n",
       "      <td>0</td>\n",
       "      <td>0.182726</td>\n",
       "      <td>-1.574681</td>\n",
       "      <td>2.130803</td>\n",
       "      <td>1.002633</td>\n",
       "      <td>0</td>\n",
       "      <td>-0.019280</td>\n",
       "      <td>-0.589690</td>\n",
       "    </tr>\n",
       "    <tr>\n",
       "      <th>2</th>\n",
       "      <td>0</td>\n",
       "      <td>0</td>\n",
       "      <td>0</td>\n",
       "      <td>1</td>\n",
       "      <td>0.182726</td>\n",
       "      <td>-0.654143</td>\n",
       "      <td>0.248310</td>\n",
       "      <td>1.002633</td>\n",
       "      <td>0</td>\n",
       "      <td>-0.919030</td>\n",
       "      <td>-0.589690</td>\n",
       "    </tr>\n",
       "    <tr>\n",
       "      <th>3</th>\n",
       "      <td>1</td>\n",
       "      <td>0</td>\n",
       "      <td>0</td>\n",
       "      <td>0</td>\n",
       "      <td>0.182726</td>\n",
       "      <td>0.854936</td>\n",
       "      <td>0.405184</td>\n",
       "      <td>-0.643782</td>\n",
       "      <td>0</td>\n",
       "      <td>0.880469</td>\n",
       "      <td>-0.589690</td>\n",
       "    </tr>\n",
       "    <tr>\n",
       "      <th>4</th>\n",
       "      <td>0</td>\n",
       "      <td>0</td>\n",
       "      <td>0</td>\n",
       "      <td>1</td>\n",
       "      <td>0.182726</td>\n",
       "      <td>1.005844</td>\n",
       "      <td>-0.536062</td>\n",
       "      <td>0.767431</td>\n",
       "      <td>0</td>\n",
       "      <td>0.880469</td>\n",
       "      <td>0.268487</td>\n",
       "    </tr>\n",
       "    <tr>\n",
       "      <th>...</th>\n",
       "      <td>...</td>\n",
       "      <td>...</td>\n",
       "      <td>...</td>\n",
       "      <td>...</td>\n",
       "      <td>...</td>\n",
       "      <td>...</td>\n",
       "      <td>...</td>\n",
       "      <td>...</td>\n",
       "      <td>...</td>\n",
       "      <td>...</td>\n",
       "      <td>...</td>\n",
       "    </tr>\n",
       "    <tr>\n",
       "      <th>695</th>\n",
       "      <td>1</td>\n",
       "      <td>0</td>\n",
       "      <td>0</td>\n",
       "      <td>0</td>\n",
       "      <td>-0.388293</td>\n",
       "      <td>-0.654143</td>\n",
       "      <td>0.562059</td>\n",
       "      <td>-1.114186</td>\n",
       "      <td>1</td>\n",
       "      <td>0.880469</td>\n",
       "      <td>-0.589690</td>\n",
       "    </tr>\n",
       "    <tr>\n",
       "      <th>696</th>\n",
       "      <td>1</td>\n",
       "      <td>0</td>\n",
       "      <td>0</td>\n",
       "      <td>0</td>\n",
       "      <td>-0.388293</td>\n",
       "      <td>0.040034</td>\n",
       "      <td>-1.320435</td>\n",
       "      <td>-0.643782</td>\n",
       "      <td>0</td>\n",
       "      <td>-0.019280</td>\n",
       "      <td>1.126663</td>\n",
       "    </tr>\n",
       "    <tr>\n",
       "      <th>697</th>\n",
       "      <td>1</td>\n",
       "      <td>0</td>\n",
       "      <td>0</td>\n",
       "      <td>0</td>\n",
       "      <td>-0.388293</td>\n",
       "      <td>1.624567</td>\n",
       "      <td>-1.320435</td>\n",
       "      <td>-0.408580</td>\n",
       "      <td>1</td>\n",
       "      <td>-0.919030</td>\n",
       "      <td>-0.589690</td>\n",
       "    </tr>\n",
       "    <tr>\n",
       "      <th>698</th>\n",
       "      <td>0</td>\n",
       "      <td>0</td>\n",
       "      <td>0</td>\n",
       "      <td>1</td>\n",
       "      <td>-0.388293</td>\n",
       "      <td>0.190942</td>\n",
       "      <td>-0.692937</td>\n",
       "      <td>-0.408580</td>\n",
       "      <td>1</td>\n",
       "      <td>-0.919030</td>\n",
       "      <td>-0.589690</td>\n",
       "    </tr>\n",
       "    <tr>\n",
       "      <th>699</th>\n",
       "      <td>0</td>\n",
       "      <td>0</td>\n",
       "      <td>0</td>\n",
       "      <td>1</td>\n",
       "      <td>-0.388293</td>\n",
       "      <td>1.036026</td>\n",
       "      <td>0.562059</td>\n",
       "      <td>-0.408580</td>\n",
       "      <td>0</td>\n",
       "      <td>-0.019280</td>\n",
       "      <td>0.268487</td>\n",
       "    </tr>\n",
       "  </tbody>\n",
       "</table>\n",
       "<p>700 rows × 11 columns</p>\n",
       "</div>"
      ],
      "text/plain": [
       "     Reason_1  Reason_2  Reason_3  Reason_4  Month Value  \\\n",
       "0           0         0         0         1     0.182726   \n",
       "1           0         0         0         0     0.182726   \n",
       "2           0         0         0         1     0.182726   \n",
       "3           1         0         0         0     0.182726   \n",
       "4           0         0         0         1     0.182726   \n",
       "..        ...       ...       ...       ...          ...   \n",
       "695         1         0         0         0    -0.388293   \n",
       "696         1         0         0         0    -0.388293   \n",
       "697         1         0         0         0    -0.388293   \n",
       "698         0         0         0         1    -0.388293   \n",
       "699         0         0         0         1    -0.388293   \n",
       "\n",
       "     Transportation Expense       Age  Body Mass Index  Education  Children  \\\n",
       "0                  1.005844 -0.536062         0.767431          0  0.880469   \n",
       "1                 -1.574681  2.130803         1.002633          0 -0.019280   \n",
       "2                 -0.654143  0.248310         1.002633          0 -0.919030   \n",
       "3                  0.854936  0.405184        -0.643782          0  0.880469   \n",
       "4                  1.005844 -0.536062         0.767431          0  0.880469   \n",
       "..                      ...       ...              ...        ...       ...   \n",
       "695               -0.654143  0.562059        -1.114186          1  0.880469   \n",
       "696                0.040034 -1.320435        -0.643782          0 -0.019280   \n",
       "697                1.624567 -1.320435        -0.408580          1 -0.919030   \n",
       "698                0.190942 -0.692937        -0.408580          1 -0.919030   \n",
       "699                1.036026  0.562059        -0.408580          0 -0.019280   \n",
       "\n",
       "         Pets  \n",
       "0    0.268487  \n",
       "1   -0.589690  \n",
       "2   -0.589690  \n",
       "3   -0.589690  \n",
       "4    0.268487  \n",
       "..        ...  \n",
       "695 -0.589690  \n",
       "696  1.126663  \n",
       "697 -0.589690  \n",
       "698 -0.589690  \n",
       "699  0.268487  \n",
       "\n",
       "[700 rows x 11 columns]"
      ]
     },
     "execution_count": 24,
     "metadata": {},
     "output_type": "execute_result"
    }
   ],
   "source": [
    "scaled_inputs"
   ]
  },
  {
   "cell_type": "markdown",
   "id": "3e63be81",
   "metadata": {},
   "source": [
    "## Split the data into train & test and shuffle"
   ]
  },
  {
   "cell_type": "markdown",
   "id": "739561e6",
   "metadata": {},
   "source": [
    "### import the relevant module"
   ]
  },
  {
   "cell_type": "code",
   "execution_count": 25,
   "id": "e5d47659",
   "metadata": {},
   "outputs": [],
   "source": [
    "from sklearn.model_selection import train_test_split"
   ]
  },
  {
   "cell_type": "markdown",
   "id": "3e894a21",
   "metadata": {},
   "source": [
    "### Split"
   ]
  },
  {
   "cell_type": "code",
   "execution_count": 26,
   "id": "9fc08784",
   "metadata": {},
   "outputs": [
    {
     "data": {
      "text/plain": [
       "[     Reason_1  Reason_2  Reason_3  Reason_4  Month Value  \\\n",
       " 526         1         0         0         0     1.039256   \n",
       " 686         1         0         0         0    -0.388293   \n",
       " 598         0         0         0         1    -1.244823   \n",
       " 602         0         0         0         1    -1.244823   \n",
       " 395         0         0         0         1    -0.959313   \n",
       " ..        ...       ...       ...       ...          ...   \n",
       " 414         0         0         0         1    -0.673803   \n",
       " 151         0         0         1         0    -1.244823   \n",
       " 7           0         0         0         1     0.182726   \n",
       " 503         0         0         0         1     0.753746   \n",
       " 236         0         0         1         0     0.182726   \n",
       " \n",
       "      Transportation Expense       Age  Body Mass Index  Education  Children  \\\n",
       " 526                0.040034 -1.320435        -0.643782          0 -0.019280   \n",
       " 686               -1.574681  2.130803         1.002633          0 -0.019280   \n",
       " 598               -0.654143  0.248310         1.002633          0 -0.919030   \n",
       " 602               -0.654143  0.248310         1.002633          0 -0.919030   \n",
       " 395                0.190942  0.091435         0.532229          1 -0.019280   \n",
       " ..                      ...       ...              ...        ...       ...   \n",
       " 414                1.624567 -1.320435        -0.408580          1 -0.919030   \n",
       " 151                1.624567 -1.320435        -0.408580          1 -0.919030   \n",
       " 7                  0.568211 -0.065439        -0.878984          0  2.679969   \n",
       " 503                0.040034 -1.320435        -0.643782          0 -0.019280   \n",
       " 236               -1.016322 -0.379188        -0.408580          0  0.880469   \n",
       " \n",
       "          Pets  \n",
       " 526  1.126663  \n",
       " 686 -0.589690  \n",
       " 598 -0.589690  \n",
       " 602 -0.589690  \n",
       " 395  0.268487  \n",
       " ..        ...  \n",
       " 414 -0.589690  \n",
       " 151 -0.589690  \n",
       " 7   -0.589690  \n",
       " 503  1.126663  \n",
       " 236 -0.589690  \n",
       " \n",
       " [525 rows x 11 columns],\n",
       "      Reason_1  Reason_2  Reason_3  Reason_4  Month Value  \\\n",
       " 299         1         0         0         0     1.039256   \n",
       " 644         0         0         0         1    -0.959313   \n",
       " 594         0         0         1         0    -1.244823   \n",
       " 204         1         0         0         0    -0.388293   \n",
       " 533         0         0         0         1     1.324766   \n",
       " ..        ...       ...       ...       ...          ...   \n",
       " 363         0         0         0         1    -1.530333   \n",
       " 618         0         0         0         1    -0.959313   \n",
       " 677         1         0         0         0    -0.388293   \n",
       " 34          0         0         0         1     0.468236   \n",
       " 483         0         0         0         1     0.468236   \n",
       " \n",
       "      Transportation Expense       Age  Body Mass Index  Education  Children  \\\n",
       " 299               -0.654143 -1.006686        -1.819793          1 -0.919030   \n",
       " 644               -0.654143 -1.006686        -1.819793          1 -0.919030   \n",
       " 594                0.160760 -0.849811        -1.349389          1 -0.019280   \n",
       " 204                1.005844 -0.536062         0.767431          0  0.880469   \n",
       " 533               -1.574681  0.091435         0.297027          0 -0.919030   \n",
       " ..                      ...       ...              ...        ...       ...   \n",
       " 363                1.005844 -0.536062         0.767431          0  0.880469   \n",
       " 618               -0.654143  0.248310         1.002633          0 -0.919030   \n",
       " 677               -1.574681  0.091435         0.297027          0 -0.919030   \n",
       " 34                -0.654143  0.248310         1.002633          0 -0.919030   \n",
       " 483               -1.574681  0.091435         0.297027          0 -0.919030   \n",
       " \n",
       "          Pets  \n",
       " 299 -0.589690  \n",
       " 644 -0.589690  \n",
       " 594  6.275721  \n",
       " 204  0.268487  \n",
       " 533 -0.589690  \n",
       " ..        ...  \n",
       " 363  0.268487  \n",
       " 618 -0.589690  \n",
       " 677 -0.589690  \n",
       " 34  -0.589690  \n",
       " 483 -0.589690  \n",
       " \n",
       " [175 rows x 11 columns],\n",
       " array([0, 0, 0, 0, 1, 0, 0, 0, 0, 0, 1, 1, 0, 0, 0, 1, 0, 0, 0, 0, 0, 0,\n",
       "        0, 0, 1, 1, 0, 0, 1, 0, 0, 1, 1, 0, 0, 1, 1, 1, 0, 0, 0, 0, 0, 0,\n",
       "        1, 1, 1, 1, 0, 0, 0, 1, 0, 1, 1, 1, 0, 0, 1, 0, 0, 1, 0, 1, 1, 0,\n",
       "        1, 1, 1, 0, 0, 1, 0, 1, 0, 0, 0, 1, 0, 1, 0, 0, 1, 1, 1, 0, 1, 1,\n",
       "        0, 1, 0, 0, 1, 1, 0, 0, 1, 0, 0, 1, 0, 1, 1, 0, 0, 0, 0, 0, 1, 1,\n",
       "        0, 0, 0, 0, 0, 1, 0, 0, 0, 1, 0, 0, 1, 0, 0, 1, 1, 0, 1, 1, 0, 0,\n",
       "        1, 0, 1, 1, 1, 0, 0, 0, 1, 0, 1, 1, 0, 1, 0, 0, 1, 0, 0, 1, 0, 0,\n",
       "        1, 0, 0, 1, 1, 0, 0, 1, 1, 0, 1, 1, 0, 0, 1, 0, 0, 0, 0, 1, 1, 0,\n",
       "        1, 1, 1, 1, 0, 0, 1, 1, 1, 0, 0, 1, 1, 1, 0, 1, 1, 1, 1, 0, 1, 0,\n",
       "        1, 1, 0, 1, 0, 0, 1, 0, 1, 1, 0, 0, 0, 0, 0, 1, 0, 1, 0, 1, 1, 0,\n",
       "        0, 1, 1, 1, 1, 1, 0, 1, 0, 1, 1, 0, 0, 0, 1, 1, 0, 1, 0, 0, 1, 1,\n",
       "        1, 1, 0, 0, 1, 1, 0, 1, 1, 0, 0, 0, 1, 0, 1, 0, 1, 0, 0, 1, 0, 0,\n",
       "        0, 1, 0, 0, 0, 1, 1, 1, 0, 1, 1, 0, 1, 0, 0, 0, 0, 1, 0, 0, 0, 0,\n",
       "        1, 1, 0, 0, 1, 1, 0, 0, 0, 0, 0, 0, 0, 0, 0, 0, 0, 1, 1, 1, 0, 0,\n",
       "        1, 0, 0, 0, 0, 1, 0, 1, 1, 1, 1, 1, 1, 0, 0, 1, 1, 1, 0, 0, 0, 1,\n",
       "        1, 1, 1, 0, 0, 1, 0, 1, 0, 0, 0, 0, 0, 1, 0, 1, 1, 0, 1, 1, 0, 0,\n",
       "        1, 0, 0, 1, 0, 0, 0, 1, 1, 1, 0, 0, 0, 1, 1, 1, 0, 0, 0, 1, 0, 1,\n",
       "        0, 0, 0, 1, 1, 0, 0, 0, 0, 1, 0, 1, 1, 0, 1, 0, 0, 0, 1, 0, 1, 0,\n",
       "        1, 1, 1, 0, 1, 1, 1, 0, 0, 1, 0, 1, 1, 0, 1, 1, 1, 0, 0, 1, 1, 0,\n",
       "        0, 0, 0, 1, 0, 1, 0, 1, 1, 0, 0, 1, 1, 1, 0, 0, 1, 0, 1, 0, 1, 0,\n",
       "        1, 1, 0, 0, 0, 0, 0, 0, 0, 0, 0, 0, 0, 0, 0, 0, 0, 1, 0, 1, 0, 0,\n",
       "        1, 0, 0, 1, 1, 0, 1, 1, 0, 1, 0, 0, 1, 0, 0, 1, 0, 1, 1, 1, 0, 0,\n",
       "        0, 1, 0, 1, 1, 0, 1, 0, 1, 0, 0, 0, 0, 0, 1, 1, 1, 1, 0, 0, 1, 0,\n",
       "        1, 0, 0, 0, 0, 1, 0, 0, 0, 0, 1, 0, 1, 0, 1, 1, 1, 0, 1]),\n",
       " array([1, 0, 0, 1, 0, 1, 0, 1, 0, 0, 0, 1, 0, 1, 1, 0, 1, 0, 0, 0, 0, 0,\n",
       "        0, 1, 0, 0, 1, 0, 1, 1, 1, 0, 1, 0, 1, 0, 0, 0, 1, 1, 0, 0, 1, 1,\n",
       "        0, 0, 0, 1, 0, 0, 1, 0, 1, 0, 0, 1, 1, 0, 0, 1, 0, 1, 0, 1, 1, 0,\n",
       "        0, 0, 0, 0, 0, 1, 0, 1, 1, 1, 1, 1, 1, 1, 0, 0, 0, 0, 1, 0, 0, 0,\n",
       "        0, 1, 1, 1, 1, 1, 0, 1, 1, 0, 0, 0, 1, 1, 0, 1, 0, 0, 1, 1, 1, 1,\n",
       "        1, 0, 1, 0, 1, 0, 1, 1, 0, 0, 1, 1, 1, 1, 0, 1, 0, 1, 1, 1, 1, 0,\n",
       "        1, 0, 0, 1, 1, 1, 0, 1, 0, 1, 0, 0, 0, 0, 1, 0, 1, 1, 0, 1, 1, 1,\n",
       "        0, 0, 0, 1, 0, 0, 0, 1, 0, 1, 1, 1, 1, 0, 1, 1, 1, 0, 0, 0, 1])]"
      ]
     },
     "execution_count": 26,
     "metadata": {},
     "output_type": "execute_result"
    }
   ],
   "source": [
    "train_test_split(scaled_inputs, targets)"
   ]
  },
  {
   "cell_type": "code",
   "execution_count": 27,
   "id": "a7940d48",
   "metadata": {},
   "outputs": [],
   "source": [
    "x_train, x_test, y_train, y_test = train_test_split(scaled_inputs, \n",
    "                                                    targets, \n",
    "                                                    train_size=0.8, \n",
    "                                                    shuffle=True,\n",
    "                                                    random_state=20\n",
    "                                                   )"
   ]
  },
  {
   "cell_type": "code",
   "execution_count": 28,
   "id": "f1e5945a",
   "metadata": {},
   "outputs": [
    {
     "name": "stdout",
     "output_type": "stream",
     "text": [
      "(560, 11) (560,)\n",
      "(140, 11) (140,)\n"
     ]
    }
   ],
   "source": [
    "print(x_train.shape,y_train.shape)\n",
    "print(x_test.shape, y_test.shape)"
   ]
  },
  {
   "cell_type": "markdown",
   "id": "4e90ed54",
   "metadata": {},
   "source": [
    "## Logistic regression with sklearn"
   ]
  },
  {
   "cell_type": "code",
   "execution_count": 29,
   "id": "06cfbde0",
   "metadata": {},
   "outputs": [],
   "source": [
    "from sklearn.linear_model import LogisticRegression\n",
    "from sklearn import metrics"
   ]
  },
  {
   "cell_type": "markdown",
   "id": "fbb094e9",
   "metadata": {},
   "source": [
    "### Training the model"
   ]
  },
  {
   "cell_type": "code",
   "execution_count": 30,
   "id": "b57f1671",
   "metadata": {},
   "outputs": [],
   "source": [
    "# reg =  LogisticRegression()\n",
    "reg = LogisticRegression(solver='liblinear')\n"
   ]
  },
  {
   "cell_type": "code",
   "execution_count": 31,
   "id": "9094ff45",
   "metadata": {},
   "outputs": [
    {
     "data": {
      "text/plain": [
       "LogisticRegression(solver='liblinear')"
      ]
     },
     "execution_count": 31,
     "metadata": {},
     "output_type": "execute_result"
    }
   ],
   "source": [
    "reg.fit(x_train, y_train)"
   ]
  },
  {
   "cell_type": "code",
   "execution_count": 32,
   "id": "513baa77",
   "metadata": {},
   "outputs": [
    {
     "data": {
      "text/plain": [
       "0.775"
      ]
     },
     "execution_count": 32,
     "metadata": {},
     "output_type": "execute_result"
    }
   ],
   "source": [
    "reg.score(x_train, y_train)"
   ]
  },
  {
   "cell_type": "markdown",
   "id": "e8227746",
   "metadata": {},
   "source": [
    "## Manuall check the accuracy"
   ]
  },
  {
   "cell_type": "code",
   "execution_count": 33,
   "id": "bbb179ca",
   "metadata": {},
   "outputs": [
    {
     "data": {
      "text/plain": [
       "array([0, 1, 1, 1, 1, 0, 0, 1, 0, 1, 1, 1, 0, 1, 0, 0, 0, 0, 0, 1, 1, 0,\n",
       "       0, 0, 0, 0, 0, 1, 1, 0, 0, 1, 0, 1, 0, 0, 1, 0, 0, 0, 1, 0, 1, 1,\n",
       "       1, 0, 0, 0, 1, 1, 0, 1, 0, 0, 0, 1, 1, 0, 0, 0, 0, 0, 1, 0, 0, 0,\n",
       "       0, 0, 0, 0, 0, 1, 1, 0, 0, 0, 1, 0, 0, 1, 1, 1, 0, 0, 0, 1, 1, 0,\n",
       "       0, 1, 0, 0, 1, 0, 0, 0, 0, 1, 0, 1, 1, 1, 1, 0, 1, 1, 0, 0, 1, 0,\n",
       "       0, 1, 0, 1, 1, 0, 0, 0, 1, 1, 1, 1, 1, 0, 0, 1, 0, 1, 0, 0, 1, 0,\n",
       "       0, 0, 0, 0, 1, 0, 0, 0, 0, 0, 1, 1, 1, 0, 0, 1, 0, 1, 0, 0, 1, 0,\n",
       "       1, 1, 0, 1, 0, 0, 1, 0, 1, 0, 0, 1, 1, 0, 1, 1, 0, 0, 0, 0, 1, 0,\n",
       "       0, 0, 0, 0, 1, 0, 0, 1, 1, 0, 0, 1, 0, 0, 1, 1, 1, 0, 0, 0, 0, 1,\n",
       "       1, 0, 0, 1, 1, 1, 1, 0, 1, 0, 0, 0, 1, 1, 1, 0, 0, 0, 0, 0, 0, 1,\n",
       "       1, 0, 0, 0, 1, 0, 0, 1, 1, 0, 0, 1, 1, 0, 0, 1, 1, 0, 0, 0, 0, 1,\n",
       "       0, 0, 1, 0, 1, 1, 1, 0, 1, 0, 1, 0, 1, 0, 1, 1, 0, 1, 1, 1, 1, 1,\n",
       "       0, 0, 0, 0, 0, 0, 1, 1, 0, 0, 1, 0, 1, 1, 0, 1, 0, 0, 1, 0, 1, 0,\n",
       "       0, 0, 1, 0, 0, 0, 0, 1, 1, 1, 1, 1, 1, 1, 0, 0, 0, 0, 0, 1, 0, 0,\n",
       "       1, 0, 0, 0, 1, 0, 1, 0, 1, 1, 0, 0, 0, 0, 1, 1, 1, 1, 0, 0, 1, 1,\n",
       "       0, 0, 1, 0, 0, 1, 0, 0, 0, 0, 0, 0, 0, 0, 0, 1, 1, 1, 0, 0, 0, 1,\n",
       "       0, 0, 1, 0, 1, 1, 0, 0, 1, 0, 1, 1, 1, 0, 0, 0, 0, 1, 1, 1, 0, 0,\n",
       "       1, 1, 1, 1, 0, 0, 1, 1, 0, 1, 0, 1, 1, 1, 0, 1, 0, 1, 1, 0, 0, 0,\n",
       "       0, 0, 0, 0, 0, 1, 1, 0, 1, 1, 0, 1, 0, 0, 0, 1, 1, 0, 1, 1, 1, 0,\n",
       "       0, 0, 0, 1, 0, 0, 1, 0, 0, 1, 0, 0, 1, 0, 1, 1, 1, 0, 0, 1, 1, 0,\n",
       "       0, 0, 0, 1, 0, 0, 0, 0, 1, 1, 1, 1, 1, 0, 1, 1, 0, 0, 0, 0, 0, 0,\n",
       "       1, 1, 0, 0, 0, 0, 1, 0, 0, 0, 1, 0, 1, 1, 0, 0, 1, 0, 0, 1, 0, 0,\n",
       "       0, 0, 0, 0, 0, 1, 0, 0, 1, 0, 0, 0, 0, 1, 0, 0, 1, 0, 1, 0, 0, 0,\n",
       "       0, 1, 1, 1, 1, 0, 0, 0, 1, 1, 1, 1, 0, 0, 1, 1, 0, 0, 1, 0, 1, 1,\n",
       "       0, 1, 1, 0, 1, 1, 1, 0, 0, 0, 1, 1, 1, 0, 1, 1, 0, 1, 1, 0, 0, 0,\n",
       "       0, 1, 0, 1, 1, 1, 0, 0, 0, 0])"
      ]
     },
     "execution_count": 33,
     "metadata": {},
     "output_type": "execute_result"
    }
   ],
   "source": [
    "model_output =  reg.predict(x_train)\n",
    "model_output"
   ]
  },
  {
   "cell_type": "code",
   "execution_count": null,
   "id": "c8d07d60",
   "metadata": {},
   "outputs": [],
   "source": []
  },
  {
   "cell_type": "code",
   "execution_count": 34,
   "id": "3b567dc7",
   "metadata": {},
   "outputs": [
    {
     "data": {
      "text/plain": [
       "array([ True,  True,  True,  True,  True,  True,  True,  True,  True,\n",
       "        True, False,  True, False, False,  True,  True,  True,  True,\n",
       "       False,  True, False,  True, False, False,  True,  True,  True,\n",
       "       False,  True,  True,  True,  True,  True,  True,  True,  True,\n",
       "       False, False, False, False,  True,  True,  True,  True,  True,\n",
       "        True,  True,  True,  True,  True, False,  True,  True,  True,\n",
       "        True,  True,  True,  True,  True, False,  True,  True,  True,\n",
       "        True,  True,  True,  True,  True,  True, False,  True,  True,\n",
       "        True,  True,  True, False,  True,  True,  True,  True,  True,\n",
       "       False,  True, False,  True,  True, False, False, False,  True,\n",
       "        True,  True,  True,  True,  True,  True,  True, False,  True,\n",
       "        True,  True,  True,  True,  True,  True,  True,  True,  True,\n",
       "        True,  True,  True,  True, False,  True,  True,  True,  True,\n",
       "       False,  True,  True,  True,  True, False,  True,  True,  True,\n",
       "        True,  True,  True,  True,  True, False,  True,  True,  True,\n",
       "        True, False,  True,  True,  True,  True,  True,  True, False,\n",
       "        True, False,  True, False,  True,  True,  True,  True, False,\n",
       "       False, False,  True,  True, False,  True, False,  True,  True,\n",
       "        True, False,  True, False,  True, False,  True, False,  True,\n",
       "        True,  True,  True,  True,  True,  True,  True,  True,  True,\n",
       "        True,  True,  True,  True,  True, False,  True,  True,  True,\n",
       "        True, False,  True,  True,  True,  True,  True,  True,  True,\n",
       "        True,  True,  True,  True,  True,  True, False,  True, False,\n",
       "       False,  True,  True,  True,  True,  True,  True,  True, False,\n",
       "        True, False,  True, False,  True,  True,  True,  True, False,\n",
       "        True, False, False,  True,  True,  True,  True,  True, False,\n",
       "       False, False,  True, False,  True,  True,  True, False,  True,\n",
       "        True,  True,  True,  True,  True,  True, False,  True,  True,\n",
       "        True,  True,  True,  True,  True,  True, False,  True,  True,\n",
       "        True, False, False,  True,  True,  True,  True,  True,  True,\n",
       "       False,  True,  True,  True,  True,  True,  True, False, False,\n",
       "       False,  True,  True,  True,  True, False,  True, False,  True,\n",
       "        True,  True,  True,  True,  True,  True, False,  True, False,\n",
       "       False,  True,  True,  True,  True,  True, False,  True,  True,\n",
       "        True,  True, False, False,  True, False,  True,  True,  True,\n",
       "        True,  True,  True,  True,  True, False,  True,  True, False,\n",
       "       False,  True,  True,  True,  True,  True, False,  True, False,\n",
       "        True,  True,  True, False, False,  True,  True,  True, False,\n",
       "        True, False,  True,  True,  True,  True,  True,  True,  True,\n",
       "        True,  True,  True,  True,  True,  True,  True,  True,  True,\n",
       "       False,  True,  True, False,  True, False,  True,  True,  True,\n",
       "        True,  True,  True,  True,  True,  True,  True,  True,  True,\n",
       "        True,  True,  True, False,  True,  True,  True, False,  True,\n",
       "        True, False,  True, False,  True,  True,  True, False,  True,\n",
       "        True,  True,  True,  True,  True, False,  True,  True,  True,\n",
       "        True,  True,  True,  True,  True,  True,  True,  True,  True,\n",
       "       False,  True,  True, False,  True, False,  True,  True,  True,\n",
       "        True,  True,  True, False,  True,  True, False,  True, False,\n",
       "        True,  True,  True,  True,  True, False, False,  True,  True,\n",
       "        True,  True,  True,  True,  True,  True,  True, False,  True,\n",
       "       False,  True,  True,  True, False, False,  True,  True,  True,\n",
       "        True, False,  True,  True,  True,  True,  True,  True,  True,\n",
       "        True,  True, False,  True,  True, False, False,  True,  True,\n",
       "       False,  True,  True,  True,  True,  True,  True, False, False,\n",
       "        True,  True, False,  True,  True,  True,  True, False,  True,\n",
       "        True,  True,  True,  True, False,  True,  True,  True,  True,\n",
       "        True, False,  True,  True, False, False,  True,  True,  True,\n",
       "       False,  True,  True,  True,  True,  True, False,  True,  True,\n",
       "       False, False, False,  True,  True, False,  True,  True,  True,\n",
       "       False,  True,  True,  True,  True,  True,  True,  True,  True,\n",
       "        True, False,  True,  True,  True,  True,  True,  True,  True,\n",
       "        True,  True, False,  True,  True,  True,  True, False,  True,\n",
       "       False,  True])"
      ]
     },
     "execution_count": 34,
     "metadata": {},
     "output_type": "execute_result"
    }
   ],
   "source": [
    "model_output == y_train"
   ]
  },
  {
   "cell_type": "code",
   "execution_count": 35,
   "id": "944f30f3",
   "metadata": {},
   "outputs": [
    {
     "data": {
      "text/plain": [
       "434"
      ]
     },
     "execution_count": 35,
     "metadata": {},
     "output_type": "execute_result"
    }
   ],
   "source": [
    "np.sum(model_output == y_train)"
   ]
  },
  {
   "cell_type": "code",
   "execution_count": 36,
   "id": "8ec3861f",
   "metadata": {},
   "outputs": [
    {
     "data": {
      "text/plain": [
       "560"
      ]
     },
     "execution_count": 36,
     "metadata": {},
     "output_type": "execute_result"
    }
   ],
   "source": [
    "model_output.shape[0]"
   ]
  },
  {
   "cell_type": "code",
   "execution_count": 37,
   "id": "1fbad528",
   "metadata": {},
   "outputs": [
    {
     "data": {
      "text/plain": [
       "0.775"
      ]
     },
     "execution_count": 37,
     "metadata": {},
     "output_type": "execute_result"
    }
   ],
   "source": [
    "np.sum(model_output==y_train)/ model_output.shape[0]"
   ]
  },
  {
   "cell_type": "markdown",
   "id": "4d61b5e8",
   "metadata": {},
   "source": [
    "### Finding the intercept and coefficients"
   ]
  },
  {
   "cell_type": "code",
   "execution_count": 38,
   "id": "84aef754",
   "metadata": {},
   "outputs": [
    {
     "data": {
      "text/plain": [
       "array([-1.46547112])"
      ]
     },
     "execution_count": 38,
     "metadata": {},
     "output_type": "execute_result"
    }
   ],
   "source": [
    "reg.intercept_"
   ]
  },
  {
   "cell_type": "code",
   "execution_count": 39,
   "id": "1679d973",
   "metadata": {},
   "outputs": [
    {
     "data": {
      "text/plain": [
       "array([[ 2.62749942,  0.86338637,  2.96050661,  0.66390745,  0.15493732,\n",
       "         0.59979822, -0.17245127,  0.27568526, -0.23452541,  0.34249662,\n",
       "        -0.2775137 ]])"
      ]
     },
     "execution_count": 39,
     "metadata": {},
     "output_type": "execute_result"
    }
   ],
   "source": [
    "reg.coef_"
   ]
  },
  {
   "cell_type": "code",
   "execution_count": 40,
   "id": "88ce3a1c",
   "metadata": {},
   "outputs": [
    {
     "data": {
      "text/plain": [
       "array(['Reason_1', 'Reason_2', 'Reason_3', 'Reason_4', 'Month Value',\n",
       "       'Transportation Expense', 'Age', 'Body Mass Index', 'Education',\n",
       "       'Children', 'Pets'], dtype=object)"
      ]
     },
     "execution_count": 40,
     "metadata": {},
     "output_type": "execute_result"
    }
   ],
   "source": [
    "unscaled_inputs.columns.values"
   ]
  },
  {
   "cell_type": "code",
   "execution_count": 41,
   "id": "e4cee428",
   "metadata": {},
   "outputs": [],
   "source": [
    "feature_name = unscaled_inputs.columns.values"
   ]
  },
  {
   "cell_type": "code",
   "execution_count": 42,
   "id": "ebd2c4a3",
   "metadata": {},
   "outputs": [
    {
     "data": {
      "text/html": [
       "<div>\n",
       "<style scoped>\n",
       "    .dataframe tbody tr th:only-of-type {\n",
       "        vertical-align: middle;\n",
       "    }\n",
       "\n",
       "    .dataframe tbody tr th {\n",
       "        vertical-align: top;\n",
       "    }\n",
       "\n",
       "    .dataframe thead th {\n",
       "        text-align: right;\n",
       "    }\n",
       "</style>\n",
       "<table border=\"1\" class=\"dataframe\">\n",
       "  <thead>\n",
       "    <tr style=\"text-align: right;\">\n",
       "      <th></th>\n",
       "      <th>Feature_name</th>\n",
       "      <th>Coef</th>\n",
       "    </tr>\n",
       "  </thead>\n",
       "  <tbody>\n",
       "    <tr>\n",
       "      <th>0</th>\n",
       "      <td>Reason_1</td>\n",
       "      <td>2.627499</td>\n",
       "    </tr>\n",
       "    <tr>\n",
       "      <th>1</th>\n",
       "      <td>Reason_2</td>\n",
       "      <td>0.863386</td>\n",
       "    </tr>\n",
       "    <tr>\n",
       "      <th>2</th>\n",
       "      <td>Reason_3</td>\n",
       "      <td>2.960507</td>\n",
       "    </tr>\n",
       "    <tr>\n",
       "      <th>3</th>\n",
       "      <td>Reason_4</td>\n",
       "      <td>0.663907</td>\n",
       "    </tr>\n",
       "    <tr>\n",
       "      <th>4</th>\n",
       "      <td>Month Value</td>\n",
       "      <td>0.154937</td>\n",
       "    </tr>\n",
       "    <tr>\n",
       "      <th>5</th>\n",
       "      <td>Transportation Expense</td>\n",
       "      <td>0.599798</td>\n",
       "    </tr>\n",
       "    <tr>\n",
       "      <th>6</th>\n",
       "      <td>Age</td>\n",
       "      <td>-0.172451</td>\n",
       "    </tr>\n",
       "    <tr>\n",
       "      <th>7</th>\n",
       "      <td>Body Mass Index</td>\n",
       "      <td>0.275685</td>\n",
       "    </tr>\n",
       "    <tr>\n",
       "      <th>8</th>\n",
       "      <td>Education</td>\n",
       "      <td>-0.234525</td>\n",
       "    </tr>\n",
       "    <tr>\n",
       "      <th>9</th>\n",
       "      <td>Children</td>\n",
       "      <td>0.342497</td>\n",
       "    </tr>\n",
       "    <tr>\n",
       "      <th>10</th>\n",
       "      <td>Pets</td>\n",
       "      <td>-0.277514</td>\n",
       "    </tr>\n",
       "  </tbody>\n",
       "</table>\n",
       "</div>"
      ],
      "text/plain": [
       "              Feature_name      Coef\n",
       "0                 Reason_1  2.627499\n",
       "1                 Reason_2  0.863386\n",
       "2                 Reason_3  2.960507\n",
       "3                 Reason_4  0.663907\n",
       "4              Month Value  0.154937\n",
       "5   Transportation Expense  0.599798\n",
       "6                      Age -0.172451\n",
       "7          Body Mass Index  0.275685\n",
       "8                Education -0.234525\n",
       "9                 Children  0.342497\n",
       "10                    Pets -0.277514"
      ]
     },
     "execution_count": 42,
     "metadata": {},
     "output_type": "execute_result"
    }
   ],
   "source": [
    "summary_table = pd.DataFrame(columns=['Feature_name'], data = feature_name)\n",
    "summary_table['Coef'] = np.transpose(reg.coef_)\n",
    "summary_table"
   ]
  },
  {
   "cell_type": "code",
   "execution_count": 43,
   "id": "540807eb",
   "metadata": {},
   "outputs": [
    {
     "data": {
      "text/html": [
       "<div>\n",
       "<style scoped>\n",
       "    .dataframe tbody tr th:only-of-type {\n",
       "        vertical-align: middle;\n",
       "    }\n",
       "\n",
       "    .dataframe tbody tr th {\n",
       "        vertical-align: top;\n",
       "    }\n",
       "\n",
       "    .dataframe thead th {\n",
       "        text-align: right;\n",
       "    }\n",
       "</style>\n",
       "<table border=\"1\" class=\"dataframe\">\n",
       "  <thead>\n",
       "    <tr style=\"text-align: right;\">\n",
       "      <th></th>\n",
       "      <th>Feature_name</th>\n",
       "      <th>Coef</th>\n",
       "    </tr>\n",
       "  </thead>\n",
       "  <tbody>\n",
       "    <tr>\n",
       "      <th>0</th>\n",
       "      <td>Intercept</td>\n",
       "      <td>-1.465471</td>\n",
       "    </tr>\n",
       "    <tr>\n",
       "      <th>1</th>\n",
       "      <td>Reason_1</td>\n",
       "      <td>2.627499</td>\n",
       "    </tr>\n",
       "    <tr>\n",
       "      <th>2</th>\n",
       "      <td>Reason_2</td>\n",
       "      <td>0.863386</td>\n",
       "    </tr>\n",
       "    <tr>\n",
       "      <th>3</th>\n",
       "      <td>Reason_3</td>\n",
       "      <td>2.960507</td>\n",
       "    </tr>\n",
       "    <tr>\n",
       "      <th>4</th>\n",
       "      <td>Reason_4</td>\n",
       "      <td>0.663907</td>\n",
       "    </tr>\n",
       "    <tr>\n",
       "      <th>5</th>\n",
       "      <td>Month Value</td>\n",
       "      <td>0.154937</td>\n",
       "    </tr>\n",
       "    <tr>\n",
       "      <th>6</th>\n",
       "      <td>Transportation Expense</td>\n",
       "      <td>0.599798</td>\n",
       "    </tr>\n",
       "    <tr>\n",
       "      <th>7</th>\n",
       "      <td>Age</td>\n",
       "      <td>-0.172451</td>\n",
       "    </tr>\n",
       "    <tr>\n",
       "      <th>8</th>\n",
       "      <td>Body Mass Index</td>\n",
       "      <td>0.275685</td>\n",
       "    </tr>\n",
       "    <tr>\n",
       "      <th>9</th>\n",
       "      <td>Education</td>\n",
       "      <td>-0.234525</td>\n",
       "    </tr>\n",
       "    <tr>\n",
       "      <th>10</th>\n",
       "      <td>Children</td>\n",
       "      <td>0.342497</td>\n",
       "    </tr>\n",
       "    <tr>\n",
       "      <th>11</th>\n",
       "      <td>Pets</td>\n",
       "      <td>-0.277514</td>\n",
       "    </tr>\n",
       "  </tbody>\n",
       "</table>\n",
       "</div>"
      ],
      "text/plain": [
       "              Feature_name      Coef\n",
       "0                Intercept -1.465471\n",
       "1                 Reason_1  2.627499\n",
       "2                 Reason_2  0.863386\n",
       "3                 Reason_3  2.960507\n",
       "4                 Reason_4  0.663907\n",
       "5              Month Value  0.154937\n",
       "6   Transportation Expense  0.599798\n",
       "7                      Age -0.172451\n",
       "8          Body Mass Index  0.275685\n",
       "9                Education -0.234525\n",
       "10                Children  0.342497\n",
       "11                    Pets -0.277514"
      ]
     },
     "execution_count": 43,
     "metadata": {},
     "output_type": "execute_result"
    }
   ],
   "source": [
    "summary_table.index = summary_table.index +1\n",
    "summary_table.loc[0] = ['Intercept', reg.intercept_[0]]\n",
    "summary_table =  summary_table.sort_index()\n",
    "summary_table"
   ]
  },
  {
   "cell_type": "markdown",
   "id": "31b5ca30",
   "metadata": {},
   "source": [
    "### Interpreting the coefficients"
   ]
  },
  {
   "cell_type": "code",
   "execution_count": 44,
   "id": "94014eaf",
   "metadata": {},
   "outputs": [],
   "source": [
    "summary_table['Odds_ratio'] = np.exp(summary_table.Coef)"
   ]
  },
  {
   "cell_type": "code",
   "execution_count": 45,
   "id": "051e39d8",
   "metadata": {},
   "outputs": [
    {
     "data": {
      "text/html": [
       "<div>\n",
       "<style scoped>\n",
       "    .dataframe tbody tr th:only-of-type {\n",
       "        vertical-align: middle;\n",
       "    }\n",
       "\n",
       "    .dataframe tbody tr th {\n",
       "        vertical-align: top;\n",
       "    }\n",
       "\n",
       "    .dataframe thead th {\n",
       "        text-align: right;\n",
       "    }\n",
       "</style>\n",
       "<table border=\"1\" class=\"dataframe\">\n",
       "  <thead>\n",
       "    <tr style=\"text-align: right;\">\n",
       "      <th></th>\n",
       "      <th>Feature_name</th>\n",
       "      <th>Coef</th>\n",
       "      <th>Odds_ratio</th>\n",
       "    </tr>\n",
       "  </thead>\n",
       "  <tbody>\n",
       "    <tr>\n",
       "      <th>0</th>\n",
       "      <td>Intercept</td>\n",
       "      <td>-1.465471</td>\n",
       "      <td>0.230969</td>\n",
       "    </tr>\n",
       "    <tr>\n",
       "      <th>1</th>\n",
       "      <td>Reason_1</td>\n",
       "      <td>2.627499</td>\n",
       "      <td>13.839121</td>\n",
       "    </tr>\n",
       "    <tr>\n",
       "      <th>2</th>\n",
       "      <td>Reason_2</td>\n",
       "      <td>0.863386</td>\n",
       "      <td>2.371177</td>\n",
       "    </tr>\n",
       "    <tr>\n",
       "      <th>3</th>\n",
       "      <td>Reason_3</td>\n",
       "      <td>2.960507</td>\n",
       "      <td>19.307751</td>\n",
       "    </tr>\n",
       "    <tr>\n",
       "      <th>4</th>\n",
       "      <td>Reason_4</td>\n",
       "      <td>0.663907</td>\n",
       "      <td>1.942367</td>\n",
       "    </tr>\n",
       "    <tr>\n",
       "      <th>5</th>\n",
       "      <td>Month Value</td>\n",
       "      <td>0.154937</td>\n",
       "      <td>1.167585</td>\n",
       "    </tr>\n",
       "    <tr>\n",
       "      <th>6</th>\n",
       "      <td>Transportation Expense</td>\n",
       "      <td>0.599798</td>\n",
       "      <td>1.821751</td>\n",
       "    </tr>\n",
       "    <tr>\n",
       "      <th>7</th>\n",
       "      <td>Age</td>\n",
       "      <td>-0.172451</td>\n",
       "      <td>0.841599</td>\n",
       "    </tr>\n",
       "    <tr>\n",
       "      <th>8</th>\n",
       "      <td>Body Mass Index</td>\n",
       "      <td>0.275685</td>\n",
       "      <td>1.317433</td>\n",
       "    </tr>\n",
       "    <tr>\n",
       "      <th>9</th>\n",
       "      <td>Education</td>\n",
       "      <td>-0.234525</td>\n",
       "      <td>0.790946</td>\n",
       "    </tr>\n",
       "    <tr>\n",
       "      <th>10</th>\n",
       "      <td>Children</td>\n",
       "      <td>0.342497</td>\n",
       "      <td>1.408460</td>\n",
       "    </tr>\n",
       "    <tr>\n",
       "      <th>11</th>\n",
       "      <td>Pets</td>\n",
       "      <td>-0.277514</td>\n",
       "      <td>0.757665</td>\n",
       "    </tr>\n",
       "  </tbody>\n",
       "</table>\n",
       "</div>"
      ],
      "text/plain": [
       "              Feature_name      Coef  Odds_ratio\n",
       "0                Intercept -1.465471    0.230969\n",
       "1                 Reason_1  2.627499   13.839121\n",
       "2                 Reason_2  0.863386    2.371177\n",
       "3                 Reason_3  2.960507   19.307751\n",
       "4                 Reason_4  0.663907    1.942367\n",
       "5              Month Value  0.154937    1.167585\n",
       "6   Transportation Expense  0.599798    1.821751\n",
       "7                      Age -0.172451    0.841599\n",
       "8          Body Mass Index  0.275685    1.317433\n",
       "9                Education -0.234525    0.790946\n",
       "10                Children  0.342497    1.408460\n",
       "11                    Pets -0.277514    0.757665"
      ]
     },
     "execution_count": 45,
     "metadata": {},
     "output_type": "execute_result"
    }
   ],
   "source": [
    "summary_table"
   ]
  },
  {
   "cell_type": "code",
   "execution_count": 46,
   "id": "d3f51a3c",
   "metadata": {},
   "outputs": [
    {
     "data": {
      "text/html": [
       "<div>\n",
       "<style scoped>\n",
       "    .dataframe tbody tr th:only-of-type {\n",
       "        vertical-align: middle;\n",
       "    }\n",
       "\n",
       "    .dataframe tbody tr th {\n",
       "        vertical-align: top;\n",
       "    }\n",
       "\n",
       "    .dataframe thead th {\n",
       "        text-align: right;\n",
       "    }\n",
       "</style>\n",
       "<table border=\"1\" class=\"dataframe\">\n",
       "  <thead>\n",
       "    <tr style=\"text-align: right;\">\n",
       "      <th></th>\n",
       "      <th>Feature_name</th>\n",
       "      <th>Coef</th>\n",
       "      <th>Odds_ratio</th>\n",
       "    </tr>\n",
       "  </thead>\n",
       "  <tbody>\n",
       "    <tr>\n",
       "      <th>3</th>\n",
       "      <td>Reason_3</td>\n",
       "      <td>2.960507</td>\n",
       "      <td>19.307751</td>\n",
       "    </tr>\n",
       "    <tr>\n",
       "      <th>1</th>\n",
       "      <td>Reason_1</td>\n",
       "      <td>2.627499</td>\n",
       "      <td>13.839121</td>\n",
       "    </tr>\n",
       "    <tr>\n",
       "      <th>2</th>\n",
       "      <td>Reason_2</td>\n",
       "      <td>0.863386</td>\n",
       "      <td>2.371177</td>\n",
       "    </tr>\n",
       "    <tr>\n",
       "      <th>4</th>\n",
       "      <td>Reason_4</td>\n",
       "      <td>0.663907</td>\n",
       "      <td>1.942367</td>\n",
       "    </tr>\n",
       "    <tr>\n",
       "      <th>6</th>\n",
       "      <td>Transportation Expense</td>\n",
       "      <td>0.599798</td>\n",
       "      <td>1.821751</td>\n",
       "    </tr>\n",
       "    <tr>\n",
       "      <th>10</th>\n",
       "      <td>Children</td>\n",
       "      <td>0.342497</td>\n",
       "      <td>1.408460</td>\n",
       "    </tr>\n",
       "    <tr>\n",
       "      <th>8</th>\n",
       "      <td>Body Mass Index</td>\n",
       "      <td>0.275685</td>\n",
       "      <td>1.317433</td>\n",
       "    </tr>\n",
       "    <tr>\n",
       "      <th>5</th>\n",
       "      <td>Month Value</td>\n",
       "      <td>0.154937</td>\n",
       "      <td>1.167585</td>\n",
       "    </tr>\n",
       "    <tr>\n",
       "      <th>7</th>\n",
       "      <td>Age</td>\n",
       "      <td>-0.172451</td>\n",
       "      <td>0.841599</td>\n",
       "    </tr>\n",
       "    <tr>\n",
       "      <th>9</th>\n",
       "      <td>Education</td>\n",
       "      <td>-0.234525</td>\n",
       "      <td>0.790946</td>\n",
       "    </tr>\n",
       "    <tr>\n",
       "      <th>11</th>\n",
       "      <td>Pets</td>\n",
       "      <td>-0.277514</td>\n",
       "      <td>0.757665</td>\n",
       "    </tr>\n",
       "    <tr>\n",
       "      <th>0</th>\n",
       "      <td>Intercept</td>\n",
       "      <td>-1.465471</td>\n",
       "      <td>0.230969</td>\n",
       "    </tr>\n",
       "  </tbody>\n",
       "</table>\n",
       "</div>"
      ],
      "text/plain": [
       "              Feature_name      Coef  Odds_ratio\n",
       "3                 Reason_3  2.960507   19.307751\n",
       "1                 Reason_1  2.627499   13.839121\n",
       "2                 Reason_2  0.863386    2.371177\n",
       "4                 Reason_4  0.663907    1.942367\n",
       "6   Transportation Expense  0.599798    1.821751\n",
       "10                Children  0.342497    1.408460\n",
       "8          Body Mass Index  0.275685    1.317433\n",
       "5              Month Value  0.154937    1.167585\n",
       "7                      Age -0.172451    0.841599\n",
       "9                Education -0.234525    0.790946\n",
       "11                    Pets -0.277514    0.757665\n",
       "0                Intercept -1.465471    0.230969"
      ]
     },
     "execution_count": 46,
     "metadata": {},
     "output_type": "execute_result"
    }
   ],
   "source": [
    "summary_table.sort_values('Odds_ratio', ascending = False)"
   ]
  },
  {
   "cell_type": "markdown",
   "id": "473473b2",
   "metadata": {},
   "source": [
    "     if its coefficient is around 0 or if its odds ration is around 1. \n",
    "     A feature is not particularly important\n",
    "\n",
    "     A weight (coefficien) of 0 implies that no matte the feature value, we will multiply it by 0 (in the model)\n",
    "     For a unit change in the standardized feature the odds increase by multiple equal to the odds ratio (1 = no change)\n",
    "     \n",
    "     exp: odds=5:1,  odds_ratio = 2, for a unit change will change the new odds to 10:1\n",
    "     5:1  *2 =10:1\n"
   ]
  },
  {
   "cell_type": "markdown",
   "id": "977ec322",
   "metadata": {},
   "source": [
    "    Upon reviewing the summary table, it appears that the 'Daily Workload Average' feature is not significant to our model. Additionally, the features of 'Distance to Work' and 'Day of the Week' do not seem to be important either.\"\n",
    "    \n",
    "        They may not necessary to be useless. At this time, they make no differece."
   ]
  },
  {
   "cell_type": "markdown",
   "id": "03fb4dac",
   "metadata": {},
   "source": [
    "### Backward elimination"
   ]
  },
  {
   "cell_type": "markdown",
   "id": "b0b7779e",
   "metadata": {},
   "source": [
    "    The goal is that we can simplify the model by removing all features which have close to no contribution to the model.\n",
    "\n",
    "    When we have the p-value, we get rid of all coefficients with p-value>0.05\n",
    "    \n",
    "    With sklearn package, if the weight is small enough, it won't make a difference anyway. In other words, if we remove the Daily Work Load Average, Distance to Work, Day of the Week features, the model should not change a lot."
   ]
  },
  {
   "cell_type": "markdown",
   "id": "c5743b7a",
   "metadata": {},
   "source": [
    "### Testing the model\n"
   ]
  },
  {
   "cell_type": "code",
   "execution_count": 47,
   "id": "4c3c96ce",
   "metadata": {},
   "outputs": [
    {
     "data": {
      "text/plain": [
       "0.75"
      ]
     },
     "execution_count": 47,
     "metadata": {},
     "output_type": "execute_result"
    }
   ],
   "source": [
    "reg.score(x_test, y_test)"
   ]
  },
  {
   "cell_type": "code",
   "execution_count": 48,
   "id": "28c45782",
   "metadata": {},
   "outputs": [
    {
     "data": {
      "text/plain": [
       "array([[0.71221976, 0.28778024],\n",
       "       [0.58760009, 0.41239991],\n",
       "       [0.44337438, 0.55662562],\n",
       "       [0.77903962, 0.22096038],\n",
       "       [0.08458343, 0.91541657],\n",
       "       [0.33103371, 0.66896629],\n",
       "       [0.29792496, 0.70207504],\n",
       "       [0.12956221, 0.87043779],\n",
       "       [0.78307821, 0.21692179],\n",
       "       [0.74708659, 0.25291341],\n",
       "       [0.49514969, 0.50485031],\n",
       "       [0.22640297, 0.77359703],\n",
       "       [0.07030984, 0.92969016],\n",
       "       [0.73504052, 0.26495948],\n",
       "       [0.30533085, 0.69466915],\n",
       "       [0.55035881, 0.44964119],\n",
       "       [0.55027426, 0.44972574],\n",
       "       [0.53930442, 0.46069558],\n",
       "       [0.40117774, 0.59882226],\n",
       "       [0.05320682, 0.94679318],\n",
       "       [0.69874615, 0.30125385],\n",
       "       [0.77903962, 0.22096038],\n",
       "       [0.41634563, 0.58365437],\n",
       "       [0.41634563, 0.58365437],\n",
       "       [0.2412915 , 0.7587085 ],\n",
       "       [0.74317087, 0.25682913],\n",
       "       [0.51065194, 0.48934806],\n",
       "       [0.85703303, 0.14296697],\n",
       "       [0.19934235, 0.80065765],\n",
       "       [0.77903962, 0.22096038],\n",
       "       [0.62971577, 0.37028423],\n",
       "       [0.31683213, 0.68316787],\n",
       "       [0.31174245, 0.68825755],\n",
       "       [0.47305759, 0.52694241],\n",
       "       [0.77903962, 0.22096038],\n",
       "       [0.46507358, 0.53492642],\n",
       "       [0.77546993, 0.22453007],\n",
       "       [0.25610763, 0.74389237],\n",
       "       [0.59670727, 0.40329273],\n",
       "       [0.39698373, 0.60301627],\n",
       "       [0.78656024, 0.21343976],\n",
       "       [0.54516654, 0.45483346],\n",
       "       [0.7596912 , 0.2403088 ],\n",
       "       [0.5611569 , 0.4388431 ],\n",
       "       [0.17377065, 0.82622935],\n",
       "       [0.42142868, 0.57857132],\n",
       "       [0.30538941, 0.69461059],\n",
       "       [0.71221976, 0.28778024],\n",
       "       [0.77790972, 0.22209028],\n",
       "       [0.7938926 , 0.2061074 ],\n",
       "       [0.42422877, 0.57577123],\n",
       "       [0.63561337, 0.36438663],\n",
       "       [0.33103371, 0.66896629],\n",
       "       [0.72871439, 0.27128561],\n",
       "       [0.16665264, 0.83334736],\n",
       "       [0.56600768, 0.43399232],\n",
       "       [0.11399337, 0.88600663],\n",
       "       [0.76603645, 0.23396355],\n",
       "       [0.62829315, 0.37170685],\n",
       "       [0.61790495, 0.38209505],\n",
       "       [0.30203861, 0.69796139],\n",
       "       [0.34090197, 0.65909803],\n",
       "       [0.70607803, 0.29392197],\n",
       "       [0.20313854, 0.79686146],\n",
       "       [0.79043907, 0.20956093],\n",
       "       [0.7300077 , 0.2699923 ],\n",
       "       [0.89600113, 0.10399887],\n",
       "       [0.77546993, 0.22453007],\n",
       "       [0.26055756, 0.73944244],\n",
       "       [0.69918168, 0.30081832],\n",
       "       [0.77546993, 0.22453007],\n",
       "       [0.67311234, 0.32688766],\n",
       "       [0.09662446, 0.90337554],\n",
       "       [0.54254271, 0.45745729],\n",
       "       [0.40002753, 0.59997247],\n",
       "       [0.77903962, 0.22096038],\n",
       "       [0.22136985, 0.77863015],\n",
       "       [0.27141023, 0.72858977],\n",
       "       [0.25655446, 0.74344554],\n",
       "       [0.32955172, 0.67044828],\n",
       "       [0.75152292, 0.24847708],\n",
       "       [0.91016537, 0.08983463],\n",
       "       [0.76603645, 0.23396355],\n",
       "       [0.24559275, 0.75440725],\n",
       "       [0.5662996 , 0.4337004 ],\n",
       "       [0.87737541, 0.12262459],\n",
       "       [0.29308287, 0.70691713],\n",
       "       [0.41634563, 0.58365437],\n",
       "       [0.72586122, 0.27413878],\n",
       "       [0.31683213, 0.68316787],\n",
       "       [0.82638206, 0.17361794],\n",
       "       [0.84738944, 0.15261056],\n",
       "       [0.77133106, 0.22866894],\n",
       "       [0.7300077 , 0.2699923 ],\n",
       "       [0.74708659, 0.25291341],\n",
       "       [0.14880137, 0.85119863],\n",
       "       [0.70306858, 0.29693142],\n",
       "       [0.23583473, 0.76416527],\n",
       "       [0.75414044, 0.24585956],\n",
       "       [0.7849557 , 0.2150443 ],\n",
       "       [0.37899345, 0.62100655],\n",
       "       [0.31683213, 0.68316787],\n",
       "       [0.3009509 , 0.6990491 ],\n",
       "       [0.25754083, 0.74245917],\n",
       "       [0.55349928, 0.44650072],\n",
       "       [0.52051622, 0.47948378],\n",
       "       [0.72120075, 0.27879925],\n",
       "       [0.14880137, 0.85119863],\n",
       "       [0.22409477, 0.77590523],\n",
       "       [0.85302259, 0.14697741],\n",
       "       [0.91714155, 0.08285845],\n",
       "       [0.09654353, 0.90345647],\n",
       "       [0.3277294 , 0.6722706 ],\n",
       "       [0.66009241, 0.33990759],\n",
       "       [0.47609389, 0.52390611],\n",
       "       [0.44001423, 0.55998577],\n",
       "       [0.20887576, 0.79112424],\n",
       "       [0.1783463 , 0.8216537 ],\n",
       "       [0.45533557, 0.54466443],\n",
       "       [0.6893534 , 0.3106466 ],\n",
       "       [0.73863728, 0.26136272],\n",
       "       [0.8399901 , 0.1600099 ],\n",
       "       [0.19001459, 0.80998541],\n",
       "       [0.54516654, 0.45483346],\n",
       "       [0.77903962, 0.22096038],\n",
       "       [0.65072406, 0.34927594],\n",
       "       [0.78656024, 0.21343976],\n",
       "       [0.88776978, 0.11223022],\n",
       "       [0.25780614, 0.74219386],\n",
       "       [0.69874615, 0.30125385],\n",
       "       [0.3864439 , 0.6135561 ],\n",
       "       [0.78656024, 0.21343976],\n",
       "       [0.70306858, 0.29693142],\n",
       "       [0.65072406, 0.34927594],\n",
       "       [0.73284787, 0.26715213],\n",
       "       [0.47609389, 0.52390611],\n",
       "       [0.53930442, 0.46069558],\n",
       "       [0.68979648, 0.31020352],\n",
       "       [0.75414044, 0.24585956],\n",
       "       [0.54254271, 0.45745729]])"
      ]
     },
     "execution_count": 48,
     "metadata": {},
     "output_type": "execute_result"
    }
   ],
   "source": [
    "predicted_proba = reg.predict_proba(x_test)\n",
    "predicted_proba"
   ]
  },
  {
   "cell_type": "code",
   "execution_count": 49,
   "id": "88377182",
   "metadata": {},
   "outputs": [
    {
     "data": {
      "text/plain": [
       "(140, 2)"
      ]
     },
     "execution_count": 49,
     "metadata": {},
     "output_type": "execute_result"
    }
   ],
   "source": [
    "predicted_proba.shape"
   ]
  },
  {
   "cell_type": "code",
   "execution_count": 50,
   "id": "617a811d",
   "metadata": {},
   "outputs": [
    {
     "data": {
      "text/plain": [
       "array([0.28778024, 0.41239991, 0.55662562, 0.22096038, 0.91541657,\n",
       "       0.66896629, 0.70207504, 0.87043779, 0.21692179, 0.25291341,\n",
       "       0.50485031, 0.77359703, 0.92969016, 0.26495948, 0.69466915,\n",
       "       0.44964119, 0.44972574, 0.46069558, 0.59882226, 0.94679318,\n",
       "       0.30125385, 0.22096038, 0.58365437, 0.58365437, 0.7587085 ,\n",
       "       0.25682913, 0.48934806, 0.14296697, 0.80065765, 0.22096038,\n",
       "       0.37028423, 0.68316787, 0.68825755, 0.52694241, 0.22096038,\n",
       "       0.53492642, 0.22453007, 0.74389237, 0.40329273, 0.60301627,\n",
       "       0.21343976, 0.45483346, 0.2403088 , 0.4388431 , 0.82622935,\n",
       "       0.57857132, 0.69461059, 0.28778024, 0.22209028, 0.2061074 ,\n",
       "       0.57577123, 0.36438663, 0.66896629, 0.27128561, 0.83334736,\n",
       "       0.43399232, 0.88600663, 0.23396355, 0.37170685, 0.38209505,\n",
       "       0.69796139, 0.65909803, 0.29392197, 0.79686146, 0.20956093,\n",
       "       0.2699923 , 0.10399887, 0.22453007, 0.73944244, 0.30081832,\n",
       "       0.22453007, 0.32688766, 0.90337554, 0.45745729, 0.59997247,\n",
       "       0.22096038, 0.77863015, 0.72858977, 0.74344554, 0.67044828,\n",
       "       0.24847708, 0.08983463, 0.23396355, 0.75440725, 0.4337004 ,\n",
       "       0.12262459, 0.70691713, 0.58365437, 0.27413878, 0.68316787,\n",
       "       0.17361794, 0.15261056, 0.22866894, 0.2699923 , 0.25291341,\n",
       "       0.85119863, 0.29693142, 0.76416527, 0.24585956, 0.2150443 ,\n",
       "       0.62100655, 0.68316787, 0.6990491 , 0.74245917, 0.44650072,\n",
       "       0.47948378, 0.27879925, 0.85119863, 0.77590523, 0.14697741,\n",
       "       0.08285845, 0.90345647, 0.6722706 , 0.33990759, 0.52390611,\n",
       "       0.55998577, 0.79112424, 0.8216537 , 0.54466443, 0.3106466 ,\n",
       "       0.26136272, 0.1600099 , 0.80998541, 0.45483346, 0.22096038,\n",
       "       0.34927594, 0.21343976, 0.11223022, 0.74219386, 0.30125385,\n",
       "       0.6135561 , 0.21343976, 0.29693142, 0.34927594, 0.26715213,\n",
       "       0.52390611, 0.46069558, 0.31020352, 0.24585956, 0.45745729])"
      ]
     },
     "execution_count": 50,
     "metadata": {},
     "output_type": "execute_result"
    }
   ],
   "source": [
    "predicted_proba[:,1]"
   ]
  },
  {
   "cell_type": "markdown",
   "id": "0586ab72",
   "metadata": {},
   "source": [
    "### Save the model"
   ]
  },
  {
   "cell_type": "code",
   "execution_count": 51,
   "id": "b5b65edb",
   "metadata": {},
   "outputs": [],
   "source": [
    "import pickle"
   ]
  },
  {
   "cell_type": "code",
   "execution_count": 52,
   "id": "d53624c5",
   "metadata": {},
   "outputs": [],
   "source": [
    "# wb = write bytes, rb= read bytes\n",
    "with open('model', 'wb') as file:\n",
    "    pickle.dump(reg, file)"
   ]
  },
  {
   "cell_type": "code",
   "execution_count": 53,
   "id": "e19ad793",
   "metadata": {},
   "outputs": [],
   "source": [
    "with open('scaler', 'wb') as file:\n",
    "    pickle.dump(absenteeism_scaler, file)"
   ]
  },
  {
   "cell_type": "code",
   "execution_count": null,
   "id": "5b317dc7",
   "metadata": {},
   "outputs": [],
   "source": []
  }
 ],
 "metadata": {
  "kernelspec": {
   "display_name": "Python 3 (ipykernel)",
   "language": "python",
   "name": "python3"
  },
  "language_info": {
   "codemirror_mode": {
    "name": "ipython",
    "version": 3
   },
   "file_extension": ".py",
   "mimetype": "text/x-python",
   "name": "python",
   "nbconvert_exporter": "python",
   "pygments_lexer": "ipython3",
   "version": "3.9.12"
  }
 },
 "nbformat": 4,
 "nbformat_minor": 5
}
